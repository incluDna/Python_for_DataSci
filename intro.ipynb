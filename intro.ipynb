{
  "nbformat": 4,
  "nbformat_minor": 0,
  "metadata": {
    "colab": {
      "provenance": [],
      "authorship_tag": "ABX9TyPNJVs++C1rZsvDPcgYGYeo",
      "include_colab_link": true
    },
    "kernelspec": {
      "name": "python3",
      "display_name": "Python 3"
    },
    "language_info": {
      "name": "python"
    }
  },
  "cells": [
    {
      "cell_type": "markdown",
      "metadata": {
        "id": "view-in-github",
        "colab_type": "text"
      },
      "source": [
        "<a href=\"https://colab.research.google.com/github/incluDna/Python_for_DataSci/blob/main/intro.ipynb\" target=\"_parent\"><img src=\"https://colab.research.google.com/assets/colab-badge.svg\" alt=\"Open In Colab\"/></a>"
      ]
    },
    {
      "cell_type": "code",
      "execution_count": null,
      "metadata": {
        "colab": {
          "base_uri": "https://localhost:8080/"
        },
        "id": "LKycth8uaaIo",
        "outputId": "3eac18da-7327-4028-9c37-c7d3c27c4878"
      },
      "outputs": [
        {
          "output_type": "stream",
          "name": "stdout",
          "text": [
            "hello world\n"
          ]
        }
      ],
      "source": [
        "print('hello world')"
      ]
    },
    {
      "cell_type": "markdown",
      "source": [
        "*ตัวแปร string*"
      ],
      "metadata": {
        "id": "I5v-hkFGbaG1"
      }
    },
    {
      "cell_type": "code",
      "source": [
        "s ='hello world'\n",
        "s1=\"hello world\"\n",
        "s2=\"\"\"I'm a student\"\"\"\n",
        "print(s)\n",
        "print(s1)\n",
        "print(s2)"
      ],
      "metadata": {
        "colab": {
          "base_uri": "https://localhost:8080/"
        },
        "id": "ooiUHRbmbZme",
        "outputId": "2ad68c8e-d66a-4fbb-8f6d-cacf870873b3"
      },
      "execution_count": null,
      "outputs": [
        {
          "output_type": "stream",
          "name": "stdout",
          "text": [
            "hello world\n",
            "hello world\n",
            "I'm a student\n"
          ]
        }
      ]
    },
    {
      "cell_type": "markdown",
      "source": [
        "- mouse hover at output, can add new code or text\n",
        "- \"\"text\"\" output: text, not \"text\"\n",
        "- I'm a student (it will error single quote ' (i'm) so, use \"\"\"\")"
      ],
      "metadata": {
        "id": "xwMBobNBcMNx"
      }
    },
    {
      "cell_type": "code",
      "source": [
        "s=\"hello world\"\n",
        "print(s[1:5])"
      ],
      "metadata": {
        "colab": {
          "base_uri": "https://localhost:8080/"
        },
        "id": "J9L6gIIJckWP",
        "outputId": "cf9d7187-d12c-4dde-94ac-31ae24e32c23"
      },
      "execution_count": null,
      "outputs": [
        {
          "output_type": "stream",
          "name": "stdout",
          "text": [
            "ello\n"
          ]
        }
      ]
    },
    {
      "cell_type": "markdown",
      "source": [
        "- have index like c++ ex. s[1] = e\n",
        "- print(s[1],s[2]) output = el\n",
        "- s[1:5] is s[1] to s[before 5] = s[1] to s[4]\n",
        "\n",
        "\n"
      ],
      "metadata": {
        "id": "oB-TMKAMjNre"
      }
    },
    {
      "cell_type": "markdown",
      "source": [
        "----------------------------\n",
        "**Get Data** (.csv) from https://www.data.go.th/\n",
        "\n",
        "- open in excel /spreadsheet, if font is weird -> tab menu \"data\" -> select icon \"from text/csv\" -> choose file ->file origin \"select thai(window) or unicode(UTF-8)"
      ],
      "metadata": {
        "id": "4Fft_GTqukEG"
      }
    },
    {
      "cell_type": "code",
      "source": [
        "from google.colab import files\n",
        "files.upload()"
      ],
      "metadata": {
        "colab": {
          "base_uri": "https://localhost:8080/",
          "height": 1000
        },
        "collapsed": true,
        "id": "P7rG4KmzvYJW",
        "outputId": "e33673e7-5a3c-4a28-827c-c50e0bc8002d"
      },
      "execution_count": null,
      "outputs": [
        {
          "output_type": "display_data",
          "data": {
            "text/plain": [
              "<IPython.core.display.HTML object>"
            ],
            "text/html": [
              "\n",
              "     <input type=\"file\" id=\"files-f3d5b96b-7b46-491b-9015-68764e0c91bd\" name=\"files[]\" multiple disabled\n",
              "        style=\"border:none\" />\n",
              "     <output id=\"result-f3d5b96b-7b46-491b-9015-68764e0c91bd\">\n",
              "      Upload widget is only available when the cell has been executed in the\n",
              "      current browser session. Please rerun this cell to enable.\n",
              "      </output>\n",
              "      <script>// Copyright 2017 Google LLC\n",
              "//\n",
              "// Licensed under the Apache License, Version 2.0 (the \"License\");\n",
              "// you may not use this file except in compliance with the License.\n",
              "// You may obtain a copy of the License at\n",
              "//\n",
              "//      http://www.apache.org/licenses/LICENSE-2.0\n",
              "//\n",
              "// Unless required by applicable law or agreed to in writing, software\n",
              "// distributed under the License is distributed on an \"AS IS\" BASIS,\n",
              "// WITHOUT WARRANTIES OR CONDITIONS OF ANY KIND, either express or implied.\n",
              "// See the License for the specific language governing permissions and\n",
              "// limitations under the License.\n",
              "\n",
              "/**\n",
              " * @fileoverview Helpers for google.colab Python module.\n",
              " */\n",
              "(function(scope) {\n",
              "function span(text, styleAttributes = {}) {\n",
              "  const element = document.createElement('span');\n",
              "  element.textContent = text;\n",
              "  for (const key of Object.keys(styleAttributes)) {\n",
              "    element.style[key] = styleAttributes[key];\n",
              "  }\n",
              "  return element;\n",
              "}\n",
              "\n",
              "// Max number of bytes which will be uploaded at a time.\n",
              "const MAX_PAYLOAD_SIZE = 100 * 1024;\n",
              "\n",
              "function _uploadFiles(inputId, outputId) {\n",
              "  const steps = uploadFilesStep(inputId, outputId);\n",
              "  const outputElement = document.getElementById(outputId);\n",
              "  // Cache steps on the outputElement to make it available for the next call\n",
              "  // to uploadFilesContinue from Python.\n",
              "  outputElement.steps = steps;\n",
              "\n",
              "  return _uploadFilesContinue(outputId);\n",
              "}\n",
              "\n",
              "// This is roughly an async generator (not supported in the browser yet),\n",
              "// where there are multiple asynchronous steps and the Python side is going\n",
              "// to poll for completion of each step.\n",
              "// This uses a Promise to block the python side on completion of each step,\n",
              "// then passes the result of the previous step as the input to the next step.\n",
              "function _uploadFilesContinue(outputId) {\n",
              "  const outputElement = document.getElementById(outputId);\n",
              "  const steps = outputElement.steps;\n",
              "\n",
              "  const next = steps.next(outputElement.lastPromiseValue);\n",
              "  return Promise.resolve(next.value.promise).then((value) => {\n",
              "    // Cache the last promise value to make it available to the next\n",
              "    // step of the generator.\n",
              "    outputElement.lastPromiseValue = value;\n",
              "    return next.value.response;\n",
              "  });\n",
              "}\n",
              "\n",
              "/**\n",
              " * Generator function which is called between each async step of the upload\n",
              " * process.\n",
              " * @param {string} inputId Element ID of the input file picker element.\n",
              " * @param {string} outputId Element ID of the output display.\n",
              " * @return {!Iterable<!Object>} Iterable of next steps.\n",
              " */\n",
              "function* uploadFilesStep(inputId, outputId) {\n",
              "  const inputElement = document.getElementById(inputId);\n",
              "  inputElement.disabled = false;\n",
              "\n",
              "  const outputElement = document.getElementById(outputId);\n",
              "  outputElement.innerHTML = '';\n",
              "\n",
              "  const pickedPromise = new Promise((resolve) => {\n",
              "    inputElement.addEventListener('change', (e) => {\n",
              "      resolve(e.target.files);\n",
              "    });\n",
              "  });\n",
              "\n",
              "  const cancel = document.createElement('button');\n",
              "  inputElement.parentElement.appendChild(cancel);\n",
              "  cancel.textContent = 'Cancel upload';\n",
              "  const cancelPromise = new Promise((resolve) => {\n",
              "    cancel.onclick = () => {\n",
              "      resolve(null);\n",
              "    };\n",
              "  });\n",
              "\n",
              "  // Wait for the user to pick the files.\n",
              "  const files = yield {\n",
              "    promise: Promise.race([pickedPromise, cancelPromise]),\n",
              "    response: {\n",
              "      action: 'starting',\n",
              "    }\n",
              "  };\n",
              "\n",
              "  cancel.remove();\n",
              "\n",
              "  // Disable the input element since further picks are not allowed.\n",
              "  inputElement.disabled = true;\n",
              "\n",
              "  if (!files) {\n",
              "    return {\n",
              "      response: {\n",
              "        action: 'complete',\n",
              "      }\n",
              "    };\n",
              "  }\n",
              "\n",
              "  for (const file of files) {\n",
              "    const li = document.createElement('li');\n",
              "    li.append(span(file.name, {fontWeight: 'bold'}));\n",
              "    li.append(span(\n",
              "        `(${file.type || 'n/a'}) - ${file.size} bytes, ` +\n",
              "        `last modified: ${\n",
              "            file.lastModifiedDate ? file.lastModifiedDate.toLocaleDateString() :\n",
              "                                    'n/a'} - `));\n",
              "    const percent = span('0% done');\n",
              "    li.appendChild(percent);\n",
              "\n",
              "    outputElement.appendChild(li);\n",
              "\n",
              "    const fileDataPromise = new Promise((resolve) => {\n",
              "      const reader = new FileReader();\n",
              "      reader.onload = (e) => {\n",
              "        resolve(e.target.result);\n",
              "      };\n",
              "      reader.readAsArrayBuffer(file);\n",
              "    });\n",
              "    // Wait for the data to be ready.\n",
              "    let fileData = yield {\n",
              "      promise: fileDataPromise,\n",
              "      response: {\n",
              "        action: 'continue',\n",
              "      }\n",
              "    };\n",
              "\n",
              "    // Use a chunked sending to avoid message size limits. See b/62115660.\n",
              "    let position = 0;\n",
              "    do {\n",
              "      const length = Math.min(fileData.byteLength - position, MAX_PAYLOAD_SIZE);\n",
              "      const chunk = new Uint8Array(fileData, position, length);\n",
              "      position += length;\n",
              "\n",
              "      const base64 = btoa(String.fromCharCode.apply(null, chunk));\n",
              "      yield {\n",
              "        response: {\n",
              "          action: 'append',\n",
              "          file: file.name,\n",
              "          data: base64,\n",
              "        },\n",
              "      };\n",
              "\n",
              "      let percentDone = fileData.byteLength === 0 ?\n",
              "          100 :\n",
              "          Math.round((position / fileData.byteLength) * 100);\n",
              "      percent.textContent = `${percentDone}% done`;\n",
              "\n",
              "    } while (position < fileData.byteLength);\n",
              "  }\n",
              "\n",
              "  // All done.\n",
              "  yield {\n",
              "    response: {\n",
              "      action: 'complete',\n",
              "    }\n",
              "  };\n",
              "}\n",
              "\n",
              "scope.google = scope.google || {};\n",
              "scope.google.colab = scope.google.colab || {};\n",
              "scope.google.colab._files = {\n",
              "  _uploadFiles,\n",
              "  _uploadFilesContinue,\n",
              "};\n",
              "})(self);\n",
              "</script> "
            ]
          },
          "metadata": {}
        },
        {
          "output_type": "stream",
          "name": "stdout",
          "text": [
            "Saving data_cr02-2559 (1).csv to data_cr02-2559 (1).csv\n"
          ]
        },
        {
          "output_type": "execute_result",
          "data": {
            "text/plain": [
              "{'data_cr02-2559 (1).csv': b' \\xa8\\xd3\\xb9\\xc7\\xb9\\xc3\\xb6\\xb7\\xd5\\xe8\\xa8\\xb4\\xb7\\xd0\\xe0\\xba\\xd5\\xc2\\xb9\\xca\\xd0\\xca\\xc1  \\xb3  \\xc7\\xd1\\xb9\\xb7\\xd5\\xe8  29 \\xa1\\xd8\\xc1\\xc0\\xd2\\xbe\\xd1\\xb9\\xb8\\xec 2559 ,,,,,,,,,,,,,,,,,,,,,,,,,,,,,,,,,,,,,,,,,,,,,,,,,,,,,,,,,,,,,,,,,,,,,,,,,,,,,,,,,,,,,,\\r\\n Number of Vehicle Registered in Thailand as of 29 February 2016 ,,,,,,,,,,,,,,,,,,,,,,,,,,,,,,,,,,,,,,,,,,,,,,,,,,,,,,,,,,,,,,,,,,,,,,,,,,,,,,,,,,,,,,\\r\\n (\\xa4\\xd1\\xb9 : Unit) ,,,,,,,,,,,,,,,,,,,,,,,,,,,,,,,,,,,,,,,,,,,,,,,,,,,,,,,,,,,,,,,,,,,,,,,,,,,,,,,,,,,,,,\\r\\n \\xbb\\xc3\\xd0\\xe0\\xc0\\xb7\\xc3\\xb6 , \\xb7\\xd1\\xe8\\xc7\\xbb\\xc3\\xd0\\xe0\\xb7\\xc8 , \\xa1\\xc3\\xd8\\xa7\\xe0\\xb7\\xbe\\xcf , \\xca\\xe8\\xc7\\xb9\\xc0\\xd9\\xc1\\xd4\\xc0\\xd2\\xa4 ,\\xc3\\xc7\\xc1\\xc0\\xd2\\xa4\\xa1\\xc5\\xd2\\xa7,\\xaa\\xd1\\xc2\\xb9\\xd2\\xb7,\\xca\\xd4\\xa7\\xcb\\xec\\xba\\xd8\\xc3\\xd5,\\xc5\\xbe\\xba\\xd8\\xc3\\xd5,\\xcd\\xe8\\xd2\\xa7\\xb7\\xcd\\xa7,\\xca\\xc3\\xd0\\xba\\xd8\\xc3\\xd5, \\xbe\\xc3\\xd0\\xb9\\xa4\\xc3\\xc8\\xc3\\xd5\\xcd\\xc2\\xd8\\xb8\\xc2\\xd2,\\xbb\\xb7\\xd8\\xc1\\xb8\\xd2\\xb9\\xd5,\\xb9\\xb9\\xb7\\xba\\xd8\\xc3\\xd5,\\xca\\xc1\\xd8\\xb7\\xc3\\xbb\\xc3\\xd2\\xa1\\xd2\\xc3,\\xc3\\xc7\\xc1\\xc0\\xd2\\xa4\\xb5\\xd0\\xc7\\xd1\\xb9\\xcd\\xcd\\xa1,\\xb9\\xa4\\xc3\\xb9\\xd2\\xc2\\xa1,\\xbb\\xc3\\xd2\\xa8\\xd5\\xb9\\xba\\xd8\\xc3\\xd5,\\xa9\\xd0\\xe0\\xaa\\xd4\\xa7\\xe0\\xb7\\xc3\\xd2,\\xaa\\xc5\\xba\\xd8\\xc3\\xd5,\\xc3\\xd0\\xc2\\xcd\\xa7,\\xa8\\xd1\\xb9\\xb7\\xba\\xd8\\xc3\\xd5,\\xb5\\xc3\\xd2\\xb4,\\xca\\xc3\\xd0\\xe1\\xa1\\xe9\\xc7,\\xc3\\xc7\\xc1\\xc0\\xd2\\xa4\\xb5\\xd0\\xc7\\xd1\\xb9\\xcd\\xcd\\xa1\\xe0\\xa9\\xd5\\xc2\\xa7\\xe0\\xcb\\xb9\\xd7\\xcd,,\\xaa\\xd1\\xc2\\xc0\\xd9\\xc1\\xd4,\\xc2\\xe2\\xca\\xb8\\xc3,\\xcd\\xd8\\xba\\xc5\\xc3\\xd2\\xaa\\xb8\\xd2\\xb9\\xd5,\\xc8\\xc3\\xd5\\xca\\xd0\\xe0\\xa1\\xc9,\\xba\\xd8\\xc3\\xd5\\xc3\\xd1\\xc1\\xc2\\xec,\\xb9\\xa4\\xc3\\xc3\\xd2\\xaa\\xca\\xd5\\xc1\\xd2,\\xca\\xd8\\xc3\\xd4\\xb9\\xb7\\xc3\\xec,\\xcd\\xd3\\xb9\\xd2\\xa8\\xe0\\xa8\\xc3\\xd4\\xad,\\xcb\\xb9\\xcd\\xa7\\xba\\xd1\\xc7\\xc5\\xd3\\xc0\\xd9,\\xba\\xd6\\xa7\\xa1\\xd2\\xcc,\\xcb\\xb9\\xcd\\xa7\\xa4\\xd2\\xc2,\\xe0\\xc5\\xc2,\\xcd\\xd8\\xb4\\xc3\\xb8\\xd2\\xb9\\xd5,\\xb9\\xa4\\xc3\\xbe\\xb9\\xc1,\\xca\\xa1\\xc5\\xb9\\xa4\\xc3,\\xa2\\xcd\\xb9\\xe1\\xa1\\xe8\\xb9,\\xa1\\xd2\\xcc\\xca\\xd4\\xb9\\xb8\\xd8\\xec,\\xc1\\xcb\\xd2\\xca\\xd2\\xc3\\xa4\\xd2\\xc1,\\xc3\\xe9\\xcd\\xc2\\xe0\\xcd\\xe7\\xb4,\\xc1\\xd8\\xa1\\xb4\\xd2\\xcb\\xd2\\xc3,\\xc3\\xc7\\xc1\\xc0\\xd2\\xa4\\xe0\\xcb\\xb9\\xd7\\xcd,\\xe0\\xaa\\xd5\\xc2\\xa7\\xc3\\xd2\\xc2,\\xe1\\xc1\\xe8\\xce\\xcd\\xa7\\xca\\xcd\\xb9,\\xe0\\xaa\\xd5\\xc2\\xa7\\xe3\\xcb\\xc1\\xe8,\\xbe\\xd0\\xe0\\xc2\\xd2,\\xb9\\xe8\\xd2\\xb9,\\xc5\\xd3\\xbe\\xd9\\xb9,\\xc5\\xd3\\xbb\\xd2\\xa7,\\xe1\\xbe\\xc3\\xe8,\\xcd\\xd8\\xb5\\xc3\\xb4\\xd4\\xb5\\xb6\\xec,\\xca\\xd8\\xe2\\xa2\\xb7\\xd1\\xc2,\\xb5\\xd2\\xa1,\\xbe\\xd4\\xc9\\xb3\\xd8\\xe2\\xc5\\xa1,\\xa1\\xd3\\xe1\\xbe\\xa7\\xe0\\xbe\\xaa\\xc3,\\xbe\\xd4\\xa8\\xd4\\xb5\\xc3,\\xe0\\xbe\\xaa\\xc3\\xba\\xd9\\xc3\\xb3\\xec,\\xb9\\xa4\\xc3\\xca\\xc7\\xc3\\xc3\\xa4\\xec,\\xcd\\xd8\\xb7\\xd1\\xc2\\xb8\\xd2\\xb9\\xd5,\\xc3\\xc7\\xc1\\xc0\\xd2\\xa4\\xb5\\xd0\\xc7\\xd1\\xb9\\xb5\\xa1,\\xca\\xd8\\xbe\\xc3\\xc3\\xb3\\xba\\xd8\\xc3\\xd5,\\xa1\\xd2\\xad\\xa8\\xb9\\xba\\xd8\\xc3\\xd5,\\xb9\\xa4\\xc3\\xbb\\xb0\\xc1,\\xc3\\xd2\\xaa\\xba\\xd8\\xc3\\xd5,\\xca\\xc1\\xd8\\xb7\\xc3\\xca\\xd2\\xa4\\xc3,\\xca\\xc1\\xd8\\xb7\\xc3\\xca\\xa7\\xa4\\xc3\\xd2\\xc1,\\xe0\\xbe\\xaa\\xc3\\xba\\xd8\\xc3\\xd5,\\xbb\\xc3\\xd0\\xa8\\xc7\\xba\\xa4\\xd5\\xc3\\xd5\\xa2\\xd1\\xb9\\xb8\\xec,\\xc3\\xc7\\xc1\\xc0\\xd2\\xa4\\xe3\\xb5\\xe9,\\xaa\\xd8\\xc1\\xbe\\xc3,\\xc3\\xd0\\xb9\\xcd\\xa7,\\xca\\xd8\\xc3\\xd2\\xc9\\xae\\xc3\\xec\\xb8\\xd2\\xb9\\xd5,\\xbe\\xd1\\xa7\\xa7\\xd2,\\xb9\\xa4\\xc3\\xc8\\xc3\\xd5\\xb8\\xc3\\xc3\\xc1\\xc3\\xd2\\xaa,\\xa1\\xc3\\xd0\\xba\\xd5\\xe8,\\xc0\\xd9\\xe0\\xa1\\xe7\\xb5,\\xbe\\xd1\\xb7\\xc5\\xd8\\xa7,\\xb5\\xc3\\xd1\\xa7,\\xca\\xa7\\xa2\\xc5\\xd2,\\xca\\xb5\\xd9\\xc5,\\xbb\\xd1\\xb5\\xb5\\xd2\\xb9\\xd5,\\xc2\\xd0\\xc5\\xd2,\\xb9\\xc3\\xd2\\xb8\\xd4\\xc7\\xd2\\xca\\r\\n Type of Vehicle , Whole Kingdom , Bangkok , Regional ,Central,Chai Nat,Sing Buri,Lop Buri,Ang Thong,Saraburi,Ayuthaya,Pathum Thani,Nonthaburi,Samut Prakarn,Eastern,Nakhon Nayok,Prachin Buri,Chachoengsao,Chonburi,Rayong,Chanthaburi,Trad,Sra Kaew,North Eastern,,Chaiyaphum,Yasothon,Ubon Ratchathani,Si Sa Ket,Buri Rum,Nakhon Ratchasima,Surin,Amnat Charoen,Nong Bua Lamphu,Bueng Kan,Nong Khai,Loei,Udon Thani,Nakhon Phanom,Sakon Nakhon,Khon Kaen,Kalasin,Maha Sarakham,Roi Et,Mukdahan,Northern,Chiang Rai,Mae Hong Son,Chiang Mai,Phayao,nan,Lamphun,Lampang,Phrae,Uttaradit,Sukhothai,Tak,Phitsanulok,Kamphaeng Phet,Phichit,Phetchabun,Nakhon Sawan,Uthai Thani,Western,Suphan Buri,Khanchanaburi,Nakhon Pathom,Ratchaburi,Samut Sakorn,Samut Songkram,Petchaburi,Prachuap Kiri Khan,Southern,Chumphon,Ranong,Surat Thani,Pang Nga,Nakhon Si Thammarat,Krabi,Phuket,Phatthalung,Trang,Songkhla,Satun,Pattani,Yala,Narathiwat\\r\\n \\xc3\\xc7\\xc1\\xb7\\xd1\\xe9\\xa7\\xca\\xd4\\xe9\\xb9 ,\" 36,912,488 \",\" 9,096,936 \",\" 27,815,552 \",\" 2,167,209 \",\" 173,251 \",\" 136,188 \",\" 412,563 \",\" 150,274 \",\" 414,700 \",\" 412,036 \",\" 142,340 \",\" 180,951 \",\" 144,906 \",\" 11,558,744 \",\" 122,791 \",\" 257,259 \",\" 374,960 \",\" 1,414,702 \",\" 678,586 \",\" 359,399 \",\" 131,844 \",\" 219,651 \",\" 7,999,552 \", -   ,\" 359,512 \",\" 204,701 \",\" 698,902 \",\" 385,779 \",\" 484,125 \",\" 1,285,585 \",\" 444,149 \",\" 121,323 \",\" 153,947 \",\" 93,949 \",\" 224,850 \",\" 260,226 \",\" 643,648 \",\" 215,195 \",\" 454,229 \",\" 818,442 \",\" 286,288 \",\" 322,580 \",\" 387,180 \",\" 154,942 \",\" 6,619,539 \",\" 697,713 \",\" 56,344 \",\" 1,331,839 \",\" 264,568 \",\" 223,279 \",\" 269,163 \",\" 444,436 \",\" 252,960 \",\" 256,541 \",\" 303,595 \",\" 218,052 \",\" 479,472 \",\" 354,749 \",\" 290,928 \",\" 442,354 \",\" 555,475 \",\" 178,071 \",\" 2,759,696 \",\" 481,761 \",\" 396,115 \",\" 459,136 \",\" 490,445 \",\" 229,128 \",\" 69,019 \",\" 312,752 \",\" 321,340 \",\" 4,710,364 \",\" 290,435 \",\" 84,686 \",\" 602,113 \",\" 123,651 \",\" 624,345 \",\" 248,503 \",\" 449,453 \",\" 249,132 \",\" 362,862 \",\" 816,344 \",\" 134,169 \",\" 221,379 \",\" 267,946 \",\" 235,346 \"\\r\\n Grand Total ,,,,,,,,,,,,,,,,,,,,,,,,,,,,,,,,,,,,,,,,,,,,,,,,,,,,,,,,,,,,,,,,,,,,,,,,,,,,,,,,,,,,,,\\r\\n \\xa1. \\xc3\\xc7\\xc1\\xc3\\xb6\\xb5\\xd2\\xc1\\xa1\\xae\\xcb\\xc1\\xd2\\xc2\\xc7\\xe8\\xd2\\xb4\\xe9\\xc7\\xc2\\xc3\\xb6\\xc2\\xb9\\xb5\\xec ,\" 35,724,757 \",\" 8,918,224 \",\" 26,806,533 \",\" 2,012,509 \",\" 165,213 \",\" 131,025 \",\" 396,898 \",\" 144,529 \",\" 384,296 \",\" 389,699 \",\" 122,473 \",\" 163,401 \",\" 114,975 \",\" 11,138,619 \",\" 118,801 \",\" 246,407 \",\" 352,760 \",\" 1,364,816 \",\" 654,794 \",\" 351,407 \",\" 128,233 \",\" 209,300 \",\" 7,712,101 \", -   ,\" 340,058 \",\" 198,672 \",\" 679,731 \",\" 372,898 \",\" 465,697 \",\" 1,230,505 \",\" 426,905 \",\" 118,067 \",\" 145,839 \",\" 90,791 \",\" 219,083 \",\" 249,412 \",\" 621,138 \",\" 210,517 \",\" 445,259 \",\" 789,533 \",\" 273,599 \",\" 310,664 \",\" 373,252 \",\" 150,481 \",\" 6,439,312 \",\" 682,239 \",\" 55,288 \",\" 1,308,596 \",\" 257,806 \",\" 217,139 \",\" 264,749 \",\" 435,003 \",\" 246,738 \",\" 250,373 \",\" 293,098 \",\" 211,299 \",\" 465,740 \",\" 337,633 \",\" 281,663 \",\" 429,305 \",\" 530,981 \",\" 171,662 \",\" 2,621,854 \",\" 454,940 \",\" 378,022 \",\" 422,833 \",\" 472,778 \",\" 215,008 \",\" 65,740 \",\" 302,377 \",\" 310,156 \",\" 4,594,239 \",\" 283,533 \",\" 81,248 \",\" 584,317 \",\" 119,594 \",\" 609,373 \",\" 242,190 \",\" 438,636 \",\" 242,924 \",\" 355,774 \",\" 791,537 \",\" 131,756 \",\" 217,586 \",\" 263,544 \",\" 232,227 \"\\r\\n     Total Vehicle under Motor Vehicle Act ,,,,,,,,,,,,,,,,,,,,,,,,,,,,,,,,,,,,,,,,,,,,,,,,,,,,,,,,,,,,,,,,,,,,,,,,,,,,,,,,,,,,,,\\r\\n     \\xc3\\xc2. 1 \\xc3\\xb6\\xc2\\xb9\\xb5\\xec\\xb9\\xd1\\xe8\\xa7\\xca\\xe8\\xc7\\xb9\\xba\\xd8\\xa4\\xa4\\xc5\\xe4\\xc1\\xe8\\xe0\\xa1\\xd4\\xb9 7 \\xa4\\xb9 Sedan (Not more than 7 Pass.) ,\" 7,848,629 \",\" 3,846,163 \",\" 4,002,466 \",\" 370,329 \",\" 22,265 \",\" 19,342 \",\" 65,284 \",\" 24,006 \",\" 64,638 \",\" 71,394 \",\" 27,053 \",\" 61,832 \",\" 14,515 \",\" 1,583,112 \",\" 19,927 \",\" 38,936 \",\" 51,839 \",\" 241,058 \",\" 129,467 \",\" 55,767 \",\" 13,156 \",\" 23,498 \",\" 1,009,464 \",,\" 31,757 \",\" 22,260 \",\" 95,804 \",\" 34,938 \",\" 42,233 \",\" 198,627 \",\" 42,692 \",\" 11,729 \",\" 14,579 \",\" 9,355 \",\" 25,446 \",\" 30,433 \",\" 90,970 \",\" 18,926 \",\" 47,410 \",\" 155,776 \",\" 33,577 \",\" 35,965 \",\" 46,980 \",\" 20,007 \",\" 945,386 \",\" 97,163 \",\" 2,284 \",\" 281,875 \",\" 30,270 \",\" 24,804 \",\" 26,149 \",\" 70,377 \",\" 33,368 \",\" 30,349 \",\" 30,479 \",\" 23,379 \",\" 89,867 \",\" 38,223 \",\" 25,646 \",\" 41,191 \",\" 77,506 \",\" 22,456 \",\" 321,229 \",\" 50,588 \",\" 53,224 \",\" 65,839 \",\" 58,682 \",\" 7,057 \",\" 7,268 \",\" 43,005 \",\" 35,566 \",\" 782,410 \",\" 33,371 \",\" 10,321 \",\" 105,007 \",\" 12,613 \",\" 95,281 \",\" 44,525 \",\" 102,918 \",\" 32,606 \",\" 50,484 \",\" 201,704 \",\" 15,746 \",\" 24,781 \",\" 32,971 \",\" 20,082 \"\\r\\n     \\xc3\\xc2. 2 \\xc3\\xb6\\xc2\\xb9\\xb5\\xec\\xb9\\xd1\\xe8\\xa7\\xca\\xe8\\xc7\\xb9\\xba\\xd8\\xa4\\xa4\\xc5\\xe0\\xa1\\xd4\\xb9 7 \\xa4\\xb9 Microbus & Passenger Van ,\" 427,769 \",\" 214,187 \",\" 213,582 \",\" 29,220 \",\" 1,297 \",\" 1,317 \",\" 3,837 \",\" 1,461 \",\" 3,612 \",\" 4,939 \",\" 3,851 \",\" 6,148 \",\" 2,758 \",\" 87,417 \",\" 1,511 \",\" 2,741 \",\" 3,787 \",\" 10,585 \",\" 5,324 \",\" 2,667 \", 981 ,\" 1,679 \",\" 58,142 \",,\" 2,640 \",\" 1,699 \",\" 4,801 \",\" 3,176 \",\" 3,161 \",\" 9,522 \",\" 3,331 \", 872 , 778 , 513 ,\" 1,602 \",\" 1,811 \",\" 4,727 \",\" 1,502 \",\" 3,378 \",\" 6,303 \",\" 2,571 \",\" 2,056 \",\" 2,668 \",\" 1,031 \",\" 48,910 \",\" 5,515 \", 490 ,\" 12,210 \",\" 1,568 \",\" 1,333 \",\" 2,179 \",\" 4,138 \",\" 1,509 \",\" 1,873 \",\" 2,255 \",\" 1,827 \",\" 3,565 \",\" 1,863 \",\" 1,797 \",\" 2,229 \",\" 3,499 \",\" 1,060 \",\" 19,749 \",\" 3,558 \",\" 2,922 \",\" 3,883 \",\" 3,470 \", 959 , 635 ,\" 2,478 \",\" 1,844 \",\" 28,286 \",\" 1,355 \", 592 ,\" 3,882 \", 752 ,\" 3,520 \",\" 1,650 \",\" 3,195 \",\" 1,154 \",\" 1,506 \",\" 6,022 \", 740 ,\" 1,361 \",\" 1,375 \",\" 1,182 \"\\r\\n     \\xc3\\xc2. 3 \\xc3\\xb6\\xc2\\xb9\\xb5\\xec\\xba\\xc3\\xc3\\xb7\\xd8\\xa1\\xca\\xe8\\xc7\\xb9\\xba\\xd8\\xa4\\xa4\\xc5 Van & Pick Up ,\" 6,167,296 \",\" 1,250,352 \",\" 4,916,944 \",\" 381,441 \",\" 31,573 \",\" 21,862 \",\" 73,594 \",\" 29,623 \",\" 70,127 \",\" 68,496 \",\" 29,163 \",\" 40,361 \",\" 16,642 \",\" 2,087,119 \",\" 23,155 \",\" 50,241 \",\" 67,161 \",\" 184,468 \",\" 119,664 \",\" 82,826 \",\" 23,122 \",\" 45,819 \",\" 1,490,663 \",,\" 63,595 \",\" 41,161 \",\" 129,570 \",\" 79,007 \",\" 78,686 \",\" 226,157 \",\" 70,640 \",\" 23,476 \",\" 34,199 \",\" 16,179 \",\" 37,451 \",\" 60,309 \",\" 114,139 \",\" 30,835 \",\" 79,398 \",\" 173,173 \",\" 66,093 \",\" 61,497 \",\" 76,053 \",\" 29,045 \",\" 1,209,536 \",\" 128,208 \",\" 6,410 \",\" 227,216 \",\" 49,692 \",\" 46,504 \",\" 58,412 \",\" 85,848 \",\" 49,970 \",\" 41,928 \",\" 52,532 \",\" 38,906 \",\" 83,940 \",\" 67,392 \",\" 48,553 \",\" 93,337 \",\" 96,970 \",\" 33,718 \",\" 481,087 \",\" 92,261 \",\" 73,361 \",\" 96,835 \",\" 81,652 \",\" 11,117 \",\" 11,522 \",\" 53,482 \",\" 60,857 \",\" 757,761 \",\" 73,813 \",\" 15,154 \",\" 118,033 \",\" 17,736 \",\" 109,489 \",\" 52,313 \",\" 42,233 \",\" 40,258 \",\" 55,665 \",\" 127,699 \",\" 16,386 \",\" 32,858 \",\" 33,615 \",\" 22,509 \"\\r\\n     \\xc3\\xc2. 4 \\xc3\\xb6\\xc2\\xb9\\xb5\\xec\\xca\\xd2\\xc1\\xc5\\xe9\\xcd\\xca\\xe8\\xc7\\xb9\\xba\\xd8\\xa4\\xa4\\xc5 Motortricycle ,\" 1,654 \", 839 , 815 , 371 , -   , -   , 7 , 1 , 1 , 7 , 3 , 334 , 18 , 94 , -   , -   , 1 , 33 , 2 , 9 , 2 , -   , 47 ,, 1 , -   , 15 , 1 , 1 , 15 , -   , -   , -   , -   , -   , -   , 6 , 1 , -   , 4 , -   , -   , 1 , 2 , 157 , 5 , -   , 61 , 18 , -   , 1 , 1 , 1 , 2 , 1 , 4 , 52 , -   , 1 , 6 , 4 , -   , 35 , 4 , 3 , 11 , 1 , 5 , 1 , 6 , 4 , 158 , 3 , -   , 7 , 2 , 11 , 7 , 12 , 3 , 77 , 28 , 2 , 2 , 2 , 2 \\r\\n     \\xc3\\xc2. 5 \\xc3\\xb6\\xc2\\xb9\\xb5\\xec\\xc3\\xd1\\xba\\xa8\\xe9\\xd2\\xa7\\xc3\\xd0\\xcb\\xc7\\xe8\\xd2\\xa7\\xa8\\xd1\\xa7\\xcb\\xc7\\xd1\\xb4 Interprovincial Taxi , 8 , -   , 8 , -   , -   , -   , -   , -   , -   , -   , -   , -   , -   , 1 , -   , -   , -   , -   , -   , 1 , -   , -   , -   ,, -   , -   , -   , -   , -   , -   , -   , -   , -   , -   , -   , -   , -   , -   , -   , -   , -   , -   , -   , -   , 4 , 2 , -   , -   , -   , -   , -   , -   , -   , 1 , -   , -   , 1 , -   , -   , -   , -   , -   , -   , -   , -   , -   , -   , -   , -   , -   , -   , 3 , -   , -   , -   , -   , -   , -   , -   , -   , 3 , -   , -   , -   , -   , -   \\r\\n     \\xc3\\xc2. 6 \\xc3\\xb6\\xc2\\xb9\\xb5\\xec\\xc3\\xd1\\xba\\xa8\\xe9\\xd2\\xa7\\xba\\xc3\\xc3\\xb7\\xd8\\xa1\\xa4\\xb9\\xe2\\xb4\\xc2\\xca\\xd2\\xc3\\xe4\\xc1\\xe8\\xe0\\xa1\\xd4\\xb9 7 \\xa4\\xb9 Urban Taxi ,\" 102,525 \",\" 98,789 \",\" 3,736 \", 1 , -   , -   , 1 , -   , -   , -   , -   , -   , -   ,\" 1,826 \", -   , -   , -   , 573 , 22 , -   , -   , -   ,\" 1,231 \",, -   , -   , 496 , 50 , 25 , 116 , 14 , -   , -   , -   , 14 , 23 , 49 , 10 , 16 , 356 , 4 , 45 , 2 , 11 , 768 , 225 , -   , 324 , -   , 10 , -   , 7 , 1 , -   , 1 , 20 , 179 , -   , 1 , -   , -   , -   , -   , -   , -   , -   , -   , -   , -   , -   , -   ,\" 1,141 \", -   , -   , 644 , -   , 57 , 12 , 338 , -   , -   , 90 , -   , -   , -   , -   \\r\\n     \\xc3\\xc2. 7 \\xc3\\xb6\\xc2\\xb9\\xb5\\xec\\xca\\xd5\\xe8\\xc5\\xe9\\xcd\\xe0\\xc5\\xe7\\xa1\\xc3\\xd1\\xba\\xa8\\xe9\\xd2\\xa7 Fixed Route Taxi ,\" 2,976 \",\" 2,459 \", 517 , -   , -   , -   , -   , -   , -   , -   , -   , -   , -   , -   , -   , -   , -   , -   , -   , -   , -   , -   , -   ,, -   , -   , -   , -   , -   , -   , -   , -   , -   , -   , -   , -   , -   , -   , -   , -   , -   , -   , -   , -   , 1 , -   , -   , 1 , -   , -   , -   , -   , -   , -   , -   , -   , -   , -   , -   , -   , -   , -   , -   , -   , -   , -   , -   , -   , -   , -   , -   , 516 , -   , -   , -   , -   , -   , -   , 516 , -   , -   , -   , -   , -   , -   , -   \\r\\n     \\xc3\\xc2. 8 \\xc3\\xb6\\xc2\\xb9\\xb5\\xec\\xc3\\xd1\\xba\\xa8\\xe9\\xd2\\xa7\\xca\\xd2\\xc1\\xc5\\xe9\\xcd Motortricycle Taxi (Tuk Tuk) ,\" 20,266 \",\" 9,039 \",\" 11,227 \",\" 3,940 \", 17 , 1 , 1 , 41 , 14 ,\" 1,343 \", -   ,\" 1,739 \", 784 ,\" 4,554 \", 1 , 539 ,\" 1,063 \", 889 , 1 , 58 , 28 , 83 ,\" 1,892 \",, 57 , -   , 430 , -   , 43 , 785 , 18 , 1 , -   , -   , 3 , 2 , 2 , 35 , -   , 509 , 1 , -   , 6 , -   ,\" 1,690 \", 189 , 14 ,\" 1,141 \", 4 , -   , 1 , -   , -   , 6 , 4 , 51 , 130 , 1 , 32 , 75 , 42 , -   , 830 , 106 , 13 , 88 , 103 , 233 , 189 , 21 , 77 , 213 , -   , -   , -   , -   , -   , -   , -   , -   , 210 , -   , -   , -   , 3 , -   \\r\\n     \\xc3\\xc2. 9 \\xc3\\xb6\\xc2\\xb9\\xb5\\xec\\xba\\xc3\\xd4\\xa1\\xd2\\xc3\\xb8\\xd8\\xc3\\xa1\\xd4\\xa8 Hotel Taxi ,\" 3,981 \", 708 ,\" 3,273 \", 41 , -   , -   , -   , -   , -   , -   , -   , 39 , 2 , 50 , -   , -   , -   , 4 , 2 , -   , -   , -   , 44 ,, -   , -   , -   , -   , -   , -   , -   , -   , -   , -   , 10 , -   , 24 , 2 , -   , 8 , -   , -   , -   , -   , 220 , 59 , -   , 161 , -   , -   , -   , -   , -   , -   , -   , -   , -   , -   , -   , -   , -   , -   , 162 , -   , -   , -   , -   , -   , -   , -   , 162 ,\" 2,800 \", -   , -   , 45 , 251 , 27 , 107 ,\" 2,350 \", -   , -   , 20 , -   , -   , -   , -   \\r\\n     \\xc3\\xc2.10 \\xc3\\xb6\\xc2\\xb9\\xb5\\xec\\xba\\xc3\\xd4\\xa1\\xd2\\xc3\\xb7\\xd1\\xc8\\xb9\\xd2\\xa8\\xc3 Tour Taxi ,\" 4,157 \",\" 1,388 \",\" 2,769 \", 5 , -   , -   , -   , -   , -   , -   , -   , 2 , 3 , -   , -   , -   , -   , -   , -   , -   , -   , -   , -   ,, -   , -   , -   , -   , -   , -   , -   , -   , -   , -   , -   , -   , -   , -   , -   , -   , -   , -   , -   , -   , -   , -   , -   , -   , -   , -   , -   , -   , -   , -   , -   , -   , -   , -   , -   , -   , -   , -   , -   , -   , -   , -   , -   , -   , -   , -   , -   ,\" 2,764 \", -   , -   , 5 , 24 , -   , 364 ,\" 2,370 \", -   , 1 , -   , -   , -   , -   , -   \\r\\n     \\xc3\\xc2.11 \\xc3\\xb6\\xc2\\xb9\\xb5\\xec\\xba\\xc3\\xd4\\xa1\\xd2\\xc3\\xe3\\xcb\\xe9\\xe0\\xaa\\xe8\\xd2 Car For Hire , 60 , 59 , 1 , -   , -   , -   , -   , -   , -   , -   , -   , -   , -   , -   , -   , -   , -   , -   , -   , -   , -   , -   , -   ,, -   , -   , -   , -   , -   , -   , -   , -   , -   , -   , -   , -   , -   , -   , -   , -   , -   , -   , -   , -   , -   , -   , -   , -   , -   , -   , -   , -   , -   , -   , -   , -   , -   , -   , -   , -   , -   , -   , -   , -   , -   , -   , -   , -   , -   , -   , -   , 1 , -   , -   , -   , 1 , -   , -   , -   , -   , -   , -   , -   , -   , -   , -   \\r\\n     \\xc3\\xc2.12 \\xc3\\xb6\\xa8\\xd1\\xa1\\xc3\\xc2\\xd2\\xb9\\xc2\\xb9\\xb5\\xec\\xca\\xe8\\xc7\\xb9\\xba\\xd8\\xa4\\xa4\\xc5 Motorcycle ,\" 20,342,403 \",\" 3,308,512 \",\" 17,033,891 \",\" 1,141,281 \",\" 106,569 \",\" 87,289 \",\" 237,291 \",\" 88,032 \",\" 238,719 \",\" 236,860 \",\" 53,619 \",\" 43,928 \",\" 48,974 \",\" 7,060,085 \",\" 73,230 \",\" 151,043 \",\" 224,371 \",\" 909,767 \",\" 396,639 \",\" 206,611 \",\" 90,546 \",\" 130,076 \",\" 4,877,802 \",,\" 210,535 \",\" 128,497 \",\" 430,200 \",\" 243,676 \",\" 326,465 \",\" 712,695 \",\" 296,689 \",\" 78,725 \",\" 91,221 \",\" 63,153 \",\" 149,718 \",\" 148,895 \",\" 395,606 \",\" 155,528 \",\" 306,766 \",\" 440,066 \",\" 162,851 \",\" 202,606 \",\" 235,507 \",\" 98,403 \",\" 4,078,498 \",\" 440,470 \",\" 45,813 \",\" 780,396 \",\" 172,054 \",\" 141,792 \",\" 176,987 \",\" 273,260 \",\" 159,159 \",\" 158,624 \",\" 195,861 \",\" 142,611 \",\" 271,623 \",\" 215,248 \",\" 196,524 \",\" 270,095 \",\" 329,587 \",\" 108,394 \",\" 1,764,307 \",\" 301,149 \",\" 241,398 \",\" 250,464 \",\" 326,128 \",\" 190,613 \",\" 45,088 \",\" 200,809 \",\" 208,658 \",\" 2,989,720 \",\" 172,985 \",\" 54,470 \",\" 351,997 \",\" 87,602 \",\" 396,522 \",\" 142,418 \",\" 282,229 \",\" 166,703 \",\" 245,644 \",\" 450,873 \",\" 98,383 \",\" 157,673 \",\" 195,153 \",\" 187,068 \"\\r\\n     \\xc3\\xc2.13 \\xc3\\xb6\\xe1\\xb7\\xc3\\xa1\\xe0\\xb5\\xcd\\xc3\\xec Tractor ,\" 494,032 \",\" 88,853 \",\" 405,179 \",\" 41,664 \",\" 3,216 \",\" 1,000 \",\" 15,319 \", 741 ,\" 4,972 \",\" 1,966 \", 256 ,\" 1,045 \",\" 13,149 \",\" 213,535 \", 502 ,\" 2,412 \",\" 2,285 \",\" 4,489 \",\" 2,170 \",\" 2,797 \", 125 ,\" 7,683 \",\" 191,072 \",,\" 13,545 \",\" 4,050 \",\" 17,676 \",\" 11,249 \",\" 12,202 \",\" 34,196 \",\" 11,712 \",\" 3,119 \",\" 4,653 \",\" 1,587 \",\" 4,528 \",\" 7,678 \",\" 13,993 \",\" 3,589 \",\" 7,983 \",\" 11,883 \",\" 8,033 \",\" 7,592 \",\" 9,887 \",\" 1,917 \",\" 116,924 \",\" 8,590 \", 141 ,\" 4,238 \",\" 3,954 \",\" 2,511 \", 827 , 955 ,\" 2,401 \",\" 5,462 \",\" 9,342 \",\" 3,140 \",\" 9,627 \",\" 13,847 \",\" 6,267 \",\" 19,648 \",\" 20,477 \",\" 5,497 \",\" 18,435 \",\" 6,374 \",\" 6,055 \",\" 1,374 \",\" 1,125 \", 179 , 80 ,\" 1,366 \",\" 1,882 \",\" 14,621 \",\" 1,277 \", 137 ,\" 3,913 \", 147 ,\" 2,755 \", 332 , 366 ,\" 1,392 \", 859 ,\" 2,526 \", 151 , 210 , 273 , 283 \\r\\n     \\xc3\\xc2.14 \\xc3\\xb6\\xba\\xb4\\xb6\\xb9\\xb9 Road Roller ,\" 12,533 \",\" 3,516 \",\" 9,017 \", 700 , 33 , 44 , 121 , 57 , 115 , 75 , 55 , 155 , 45 ,\" 3,621 \", 34 , 167 , 85 , 277 , 131 , 129 , 23 , 115 ,\" 2,660 \",, 95 , 107 , 224 , 177 , 412 , 376 , 250 , 27 , 95 , 2 , 28 , 78 , 146 , 28 , 119 , 187 , 104 , 70 , 81 , 54 ,\" 2,201 \", 235 , 13 , 355 , 69 , 72 , 48 , 114 , 117 , 82 , 158 , 74 , 175 , 111 , 158 , 200 , 167 , 53 ,\" 1,117 \", 255 , 85 , 157 , 382 , 19 , 39 , 89 , 91 ,\" 1,378 \", 113 , 37 , 250 , 39 , 110 , 39 , 23 , 56 , 86 , 282 , 43 , 92 , 97 , 111 \\r\\n     \\xc3\\xc2.15 \\xc3\\xb6\\xe3\\xaa\\xe9\\xa7\\xd2\\xb9\\xe0\\xa1\\xc9\\xb5\\xc3\\xa1\\xc3\\xc3\\xc1 Farm Vehicle ,\" 103,378 \", 6 ,\" 103,372 \", 991 , 81 , -   , 236 , -   , 133 , 533 , 7 , 1 , -   ,\" 72,290 \", 70 , 21 , 110 , 13 , 15 , 7 , 1 , 51 ,\" 72,002 \",,\" 17,744 \", 710 , 201 , 248 ,\" 1,764 \",\" 44,762 \", 467 , 19 , 284 , -   , 259 , 171 ,\" 1,356 \", 56 , 58 , 975 , 308 , 667 ,\" 1,946 \", 7 ,\" 29,615 \", 920 , 3 , 29 , 42 , 6 , 26 , 127 , 119 ,\" 11,912 \",\" 2,312 \", 18 ,\" 6,290 \", 774 ,\" 2,468 \",\" 2,181 \",\" 2,045 \", 343 , 432 , 43 , 27 , 3 , 8 , -   , 3 , 318 , 30 , 44 , 2 , 1 , 3 , 1 , 6 , 3 , -   , -   , 3 , 4 , -   , -   , 2 , 19 \\r\\n     \\xc3\\xc2.16 \\xc3\\xb6\\xbe\\xe8\\xc7\\xa7 Automobile Trailer ,\" 3,597 \",\" 2,073 \",\" 1,524 \", 99 , 4 , -   , 9 , 6 , 37 , 23 , 13 , 2 , 5 ,\" 1,109 \", 1 , 2 , 5 , 217 , 26 , 8 , -   , 4 , 846 ,, 8 , -   , 28 , 6 , 7 , 686 , 14 , 1 , 5 , 2 , 10 , 5 , 39 , 1 , 2 , 24 , 3 , 2 , 3 , -   , 116 , 14 , 6 , 18 , 2 , 2 , 7 , 7 , -   , 6 , 17 , 3 , 6 , 8 , 8 , 1 , 10 , 1 , 97 , 6 , 28 , 5 , 14 , 2 , -   , 14 , 28 , 103 , 18 , 3 , 20 , 1 , 3 , 8 , 21 , 5 , 3 , 16 , 1 , 1 , -   , 3 \\r\\n     \\xc3\\xc2.17 \\xc3\\xb6\\xa8\\xd1\\xa1\\xc3\\xc2\\xd2\\xb9\\xc2\\xb9\\xb5\\xec\\xca\\xd2\\xb8\\xd2\\xc3\\xb3\\xd0 Public Motorcycle ,\" 189,493 \",\" 91,281 \",\" 98,212 \",\" 42,426 \", 158 , 170 ,\" 1,198 \", 561 ,\" 1,928 \",\" 4,063 \",\" 8,453 \",\" 7,815 \",\" 18,080 \",\" 23,806 \", 370 , 305 ,\" 2,053 \",\" 12,443 \",\" 1,331 \", 527 , 249 , 292 ,\" 6,236 \",, 81 , 188 , 286 , 370 , 698 ,\" 2,568 \",\" 1,078 \", 98 , 25 , -   , 14 , 7 , 81 , 4 , 129 , 269 , 54 , 164 , 118 , 4 ,\" 5,286 \", 644 , 114 , 571 , 133 , 105 , 112 , 169 , 93 , 128 , 136 ,\" 1,266 \", 285 , 166 , 208 , 342 , 674 , 140 ,\" 14,374 \", 596 , 906 ,\" 4,174 \",\" 1,213 \",\" 4,824 \", 915 , 789 , 957 ,\" 12,320 \", 596 , 533 , 511 , 425 ,\" 1,592 \", 412 ,\" 2,065 \", 747 ,\" 1,233 \",\" 2,273 \", 304 , 608 , 53 , 968 \\r\\n \\xa2. \\xc3\\xc7\\xc1\\xc3\\xb6\\xb5\\xd2\\xc1\\xa1\\xae\\xcb\\xc1\\xd2\\xc2\\xc7\\xe8\\xd2\\xb4\\xe9\\xc7\\xc2\\xa1\\xd2\\xc3\\xa2\\xb9\\xca\\xe8\\xa7\\xb7\\xd2\\xa7\\xba\\xa1 ,\" 1,187,731 \",\" 178,712 \",\" 1,009,019 \",\" 154,700 \",\" 8,038 \",\" 5,163 \",\" 15,665 \",\" 5,745 \",\" 30,404 \",\" 22,337 \",\" 19,867 \",\" 17,550 \",\" 29,931 \",\" 420,125 \",\" 3,990 \",\" 10,852 \",\" 22,200 \",\" 49,886 \",\" 23,792 \",\" 7,992 \",\" 3,611 \",\" 10,351 \",\" 287,451 \", -   ,\" 19,454 \",\" 6,029 \",\" 19,171 \",\" 12,881 \",\" 18,428 \",\" 55,080 \",\" 17,244 \",\" 3,256 \",\" 8,108 \",\" 3,158 \",\" 5,767 \",\" 10,814 \",\" 22,510 \",\" 4,678 \",\" 8,970 \",\" 28,909 \",\" 12,689 \",\" 11,916 \",\" 13,928 \",\" 4,461 \",\" 180,227 \",\" 15,474 \",\" 1,056 \",\" 23,243 \",\" 6,762 \",\" 6,140 \",\" 4,414 \",\" 9,433 \",\" 6,222 \",\" 6,168 \",\" 10,497 \",\" 6,753 \",\" 13,732 \",\" 17,116 \",\" 9,265 \",\" 13,049 \",\" 24,494 \",\" 6,409 \",\" 137,842 \",\" 26,821 \",\" 18,093 \",\" 36,303 \",\" 17,667 \",\" 14,120 \",\" 3,279 \",\" 10,375 \",\" 11,184 \",\" 116,125 \",\" 6,902 \",\" 3,438 \",\" 17,796 \",\" 4,057 \",\" 14,972 \",\" 6,313 \",\" 10,817 \",\" 6,208 \",\" 7,088 \",\" 24,807 \",\" 2,413 \",\" 3,793 \",\" 4,402 \",\" 3,119 \"\\r\\n     Total Vehicle under Land Transport Act ,,,,,,,,,,,,,,,,,,,,,,,,,,,,,,,,,,,,,,,,,,,,,,,,,,,,,,,,,,,,,,,,,,,,,,,,,,,,,,,,,,,,,,\\r\\n     \\xc3\\xc7\\xc1\\xc3\\xb6\\xe2\\xb4\\xc2\\xca\\xd2\\xc3 Bus : Total ,\" 153,454 \",\" 42,921 \",\" 110,533 \",\" 15,918 \", 377 , 442 ,\" 1,816 \", 988 ,\" 1,081 \",\" 3,162 \",\" 2,246 \",\" 2,004 \",\" 3,802 \",\" 39,884 \", 371 , 661 ,\" 2,283 \",\" 5,988 \",\" 1,950 \",\" 1,099 \", 702 , 504 ,\" 26,326 \", -   , 975 , 655 ,\" 2,090 \",\" 1,155 \",\" 1,051 \",\" 6,001 \",\" 1,332 \", 192 , 701 , 152 , 461 , 655 ,\" 2,526 \", 588 ,\" 1,273 \",\" 3,045 \", 801 ,\" 1,005 \",\" 1,313 \", 355 ,\" 17,668 \",\" 1,788 \", 204 ,\" 6,584 \", 459 , 454 , 434 ,\" 1,210 \", 458 , 408 , 532 , 839 , 844 , 628 , 346 , 667 ,\" 1,331 \", 482 ,\" 9,088 \",\" 1,762 \",\" 1,176 \",\" 1,497 \", 923 ,\" 1,655 \", 496 , 692 , 887 ,\" 27,975 \", 621 , 604 ,\" 3,124 \",\" 1,399 \",\" 2,815 \",\" 1,763 \",\" 6,707 \",\" 1,130 \", 881 ,\" 6,004 \", 554 , 863 ,\" 1,130 \", 380 \\r\\n     \\xe1\\xc2\\xa1\\xe0\\xbb\\xe7\\xb9 - \\xbb\\xc3\\xd0\\xa8\\xd3\\xb7\\xd2\\xa7 Fixed Route Bus ,\" 85,311 \",\" 24,421 \",\" 60,890 \",\" 6,925 \", 130 , 231 , 823 , 214 , 343 ,\" 1,034 \", 938 , 880 ,\" 2,332 \",\" 25,324 \", 185 , 279 , 883 ,\" 3,187 \",\" 1,248 \", 382 , 434 , 276 ,\" 18,450 \",, 689 , 499 ,\" 1,545 \", 705 , 708 ,\" 3,658 \", 901 , 132 , 553 , 52 , 283 , 476 ,\" 2,042 \", 410 , 997 ,\" 2,413 \", 500 , 760 , 873 , 254 ,\" 11,171 \",\" 1,127 \", 126 ,\" 4,157 \", 239 , 248 , 305 , 909 , 360 , 230 , 350 , 624 , 375 , 391 , 109 , 446 , 911 , 264 ,\" 5,301 \",\" 1,124 \", 873 , 791 , 505 ,\" 1,070 \", 398 , 216 , 324 ,\" 12,169 \", 449 , 510 ,\" 2,095 \", 396 ,\" 2,238 \", 602 , 403 , 835 , 546 ,\" 2,590 \", 377 , 452 , 447 , 229 \\r\\n                   - \\xe4\\xc1\\xe8\\xbb\\xc3\\xd0\\xa8\\xd3\\xb7\\xd2\\xa7 Non Fixed Route Bus ,\" 56,158 \",\" 15,444 \",\" 40,714 \",\" 7,658 \", 212 , 170 , 809 , 721 , 631 ,\" 1,982 \",\" 1,070 \", 825 ,\" 1,238 \",\" 10,952 \", 167 , 345 ,\" 1,276 \",\" 2,327 \", 514 , 658 , 243 , 205 ,\" 5,217 \",, 147 , 109 , 308 , 212 , 214 ,\" 1,980 \", 313 , 35 , 79 , 57 , 132 , 104 , 275 , 136 , 175 , 312 , 186 , 134 , 223 , 86 ,\" 4,950 \", 535 , 55 ,\" 2,103 \", 166 , 155 , 84 , 160 , 47 , 132 , 124 , 152 , 387 , 153 , 147 , 127 , 247 , 176 ,\" 2,929 \", 500 , 196 , 473 , 334 , 441 , 87 , 391 , 507 ,\" 14,225 \", 154 , 84 , 933 , 951 , 317 ,\" 1,091 \",\" 6,119 \", 205 , 217 ,\" 3,121 \", 141 , 254 , 549 , 89 \\r\\n                   - \\xca\\xe8\\xc7\\xb9\\xba\\xd8\\xa4\\xa4\\xc5 Private Bus ,\" 11,985 \",\" 3,056 \",\" 8,929 \",\" 1,335 \", 35 , 41 , 184 , 53 , 107 , 146 , 238 , 299 , 232 ,\" 3,608 \", 19 , 37 , 124 , 474 , 188 , 59 , 25 , 23 ,\" 2,659 \",, 139 , 47 , 237 , 238 , 129 , 363 , 118 , 25 , 69 , 43 , 46 , 75 , 209 , 42 , 101 , 320 , 115 , 111 , 217 , 15 ,\" 1,547 \", 126 , 23 , 324 , 54 , 51 , 45 , 141 , 51 , 46 , 58 , 63 , 82 , 84 , 90 , 94 , 173 , 42 , 858 , 138 , 107 , 233 , 84 , 144 , 11 , 85 , 56 ,\" 1,581 \", 18 , 10 , 96 , 52 , 260 , 70 , 185 , 90 , 118 , 293 , 36 , 157 , 134 , 62 \\r\\n     \\xc3\\xc7\\xc1\\xc3\\xb6\\xba\\xc3\\xc3\\xb7\\xd8\\xa1 Truck : Total ,\" 1,033,403 \",\" 135,791 \",\" 897,612 \",\" 138,754 \",\" 7,657 \",\" 4,720 \",\" 13,848 \",\" 4,757 \",\" 29,323 \",\" 19,173 \",\" 17,621 \",\" 15,533 \",\" 26,122 \",\" 380,034 \",\" 3,619 \",\" 10,191 \",\" 19,917 \",\" 43,889 \",\" 21,841 \",\" 6,893 \",\" 2,909 \",\" 9,845 \",\" 260,930 \", -   ,\" 18,479 \",\" 5,363 \",\" 17,081 \",\" 11,717 \",\" 17,377 \",\" 49,066 \",\" 15,910 \",\" 3,064 \",\" 7,405 \",\" 3,006 \",\" 5,304 \",\" 10,159 \",\" 19,982 \",\" 4,090 \",\" 7,634 \",\" 25,860 \",\" 11,886 \",\" 10,830 \",\" 12,611 \",\" 4,106 \",\" 162,146 \",\" 13,678 \", 849 ,\" 16,659 \",\" 6,293 \",\" 5,685 \",\" 3,980 \",\" 8,215 \",\" 5,745 \",\" 5,760 \",\" 9,965 \",\" 5,913 \",\" 12,887 \",\" 16,445 \",\" 8,916 \",\" 12,267 \",\" 22,965 \",\" 5,924 \",\" 128,722 \",\" 25,055 \",\" 16,913 \",\" 34,792 \",\" 16,744 \",\" 12,458 \",\" 2,782 \",\" 9,683 \",\" 10,295 \",\" 87,956 \",\" 6,278 \",\" 2,834 \",\" 14,644 \",\" 2,649 \",\" 12,137 \",\" 4,550 \",\" 4,110 \",\" 5,051 \",\" 6,206 \",\" 18,802 \",\" 1,858 \",\" 2,898 \",\" 3,251 \",\" 2,688 \"\\r\\n     \\xe1\\xc2\\xa1\\xe0\\xbb\\xe7\\xb9 - \\xe4\\xc1\\xe8\\xbb\\xc3\\xd0\\xa8\\xd3\\xb7\\xd2\\xa7 Non Fixed Route Truck ,\" 261,415 \",\" 71,837 \",\" 189,578 \",\" 46,091 \",\" 1,047 \", 560 ,\" 1,084 \", 374 ,\" 10,919 \",\" 7,743 \",\" 5,646 \",\" 5,191 \",\" 13,527 \",\" 66,663 \", 894 ,\" 1,093 \",\" 6,583 \",\" 17,087 \",\" 9,287 \", 600 , 371 ,\" 1,098 \",\" 29,650 \",,\" 1,516 \", 448 ,\" 2,240 \", 568 ,\" 1,307 \",\" 5,827 \",\" 1,635 \", 149 , 680 , 457 ,\" 1,667 \", 902 ,\" 3,461 \", 472 , 711 ,\" 3,154 \", 807 ,\" 1,675 \",\" 1,067 \", 907 ,\" 25,435 \",\" 3,702 \", 76 ,\" 4,054 \",\" 1,097 \", 476 , 530 ,\" 2,805 \", 282 , 795 , 585 ,\" 2,241 \",\" 1,377 \",\" 1,153 \", 415 , 402 ,\" 5,267 \", 178 ,\" 30,286 \",\" 1,090 \",\" 2,664 \",\" 10,511 \",\" 3,788 \",\" 4,125 \", 539 ,\" 4,467 \",\" 3,102 \",\" 21,103 \",\" 1,339 \", 601 ,\" 3,087 \", 189 ,\" 1,749 \", 311 , 467 ,\" 1,001 \",\" 1,645 \",\" 8,937 \", 269 , 460 , 637 , 411 \\r\\n                   - \\xca\\xe8\\xc7\\xb9\\xba\\xd8\\xa4\\xa4\\xc5 Private Truck ,\" 771,988 \",\" 63,954 \",\" 708,034 \",\" 92,663 \",\" 6,610 \",\" 4,160 \",\" 12,764 \",\" 4,383 \",\" 18,404 \",\" 11,430 \",\" 11,975 \",\" 10,342 \",\" 12,595 \",\" 313,371 \",\" 2,725 \",\" 9,098 \",\" 13,334 \",\" 26,802 \",\" 12,554 \",\" 6,293 \",\" 2,538 \",\" 8,747 \",\" 231,280 \",,\" 16,963 \",\" 4,915 \",\" 14,841 \",\" 11,149 \",\" 16,070 \",\" 43,239 \",\" 14,275 \",\" 2,915 \",\" 6,725 \",\" 2,549 \",\" 3,637 \",\" 9,257 \",\" 16,521 \",\" 3,618 \",\" 6,923 \",\" 22,706 \",\" 11,079 \",\" 9,155 \",\" 11,544 \",\" 3,199 \",\" 136,711 \",\" 9,976 \", 773 ,\" 12,605 \",\" 5,196 \",\" 5,209 \",\" 3,450 \",\" 5,410 \",\" 5,463 \",\" 4,965 \",\" 9,380 \",\" 3,672 \",\" 11,510 \",\" 15,292 \",\" 8,501 \",\" 11,865 \",\" 17,698 \",\" 5,746 \",\" 98,436 \",\" 23,965 \",\" 14,249 \",\" 24,281 \",\" 12,956 \",\" 8,333 \",\" 2,243 \",\" 5,216 \",\" 7,193 \",\" 66,853 \",\" 4,939 \",\" 2,233 \",\" 11,557 \",\" 2,460 \",\" 10,388 \",\" 4,239 \",\" 3,643 \",\" 4,050 \",\" 4,561 \",\" 9,865 \",\" 1,589 \",\" 2,438 \",\" 2,614 \",\" 2,277 \"\\r\\n     \\xe2\\xb4\\xc2\\xc3\\xb6\\xa2\\xb9\\xd2\\xb4\\xe0\\xc5\\xe7\\xa1 Small Rural Bus , 874 , -   , 874 , 28 , 4 , 1 , 1 , -   , -   , 2 , -   , 13 , 7 , 207 , -   , -   , -   , 9 , 1 , -   , -   , 2 , 195 ,, -   , 11 , -   , 9 , -   , 13 , 2 , -   , 2 , -   , 2 , -   , 2 , -   , 63 , 4 , 2 , 81 , 4 , -   , 413 , 8 , 3 , -   , 10 , 1 , -   , 8 , 19 , -   , -   , 1 , 1 , 43 , 3 , 115 , 198 , 3 , 32 , 4 , 4 , 14 , -   , 7 , 1 , -   , 2 , 194 , 3 , -   , 28 , 9 , 20 , -   , -   , 27 , 1 , 1 , 1 , 32 , 21 , 51 \\r\\n,,,,,,,,,,,,,,,,,,,,,,,,,,,,,,,,,,,,,,,,,,,,,,,,,,,,,,,,,,,,,,,,,,,,,,,,,,,,,,,,,,,,,,\\r\\n \\xa1\\xc5\\xd8\\xe8\\xc1\\xca\\xb6\\xd4\\xb5\\xd4\\xa1\\xd2\\xc3\\xa2\\xb9\\xca\\xe8\\xa7  \\xa1\\xcd\\xa7\\xe1\\xbc\\xb9\\xa7\\xd2\\xb9  \\xa1\\xc3\\xc1\\xa1\\xd2\\xc3\\xa2\\xb9\\xca\\xe8\\xa7\\xb7\\xd2\\xa7\\xba\\xa1  ,,,,,,,,,,,,,,,,,,,,,,,,,,,,,,,,,,,,,,,,,,,,,,,,,,,,,,,,,,,,,,,,,,,,,,,,,,,,,,,,,,,,,,\\r\\n\" (Transport Statistics Sub-Division, Planning Division , Department of Land Transport) \",,,,,,,,,,,,,,,,,,,,,,,,,,,,,,,,,,,,,,,,,,,,,,,,,,,,,,,,,,,,,,,,,,,,,,,,,,,,,,,,,,,,,,\\r\\n,,,,,,,,,,,,,,,,,,,,,,,,,,,,,,,,,,,,,,,,,,,,,,,,,,,,,,,,,,,,,,,,,,,,,,,,,,,,,,,,,,,,,,\\r\\n'}"
            ]
          },
          "metadata": {},
          "execution_count": 2
        }
      ]
    },
    {
      "cell_type": "markdown",
      "source": [
        "ex. data_cr02-2559 (1).csv"
      ],
      "metadata": {
        "id": "SEksT4f9RHqw"
      }
    },
    {
      "cell_type": "code",
      "source": [
        "f=open('data_cr02-2559 (1).csv', encoding='cp874')\n",
        "for line in f:\n",
        "  print(line)\n",
        "f.close()"
      ],
      "metadata": {
        "colab": {
          "base_uri": "https://localhost:8080/"
        },
        "collapsed": true,
        "id": "qPy3RCuyvuZx",
        "outputId": "1622349f-a86d-4fe2-a710-f478ec4f90c0"
      },
      "execution_count": null,
      "outputs": [
        {
          "output_type": "stream",
          "name": "stdout",
          "text": [
            " จำนวนรถที่จดทะเบียนสะสม  ณ  วันที่  29 กุมภาพันธ์ 2559 ,,,,,,,,,,,,,,,,,,,,,,,,,,,,,,,,,,,,,,,,,,,,,,,,,,,,,,,,,,,,,,,,,,,,,,,,,,,,,,,,,,,,,,\n",
            "\n",
            " Number of Vehicle Registered in Thailand as of 29 February 2016 ,,,,,,,,,,,,,,,,,,,,,,,,,,,,,,,,,,,,,,,,,,,,,,,,,,,,,,,,,,,,,,,,,,,,,,,,,,,,,,,,,,,,,,\n",
            "\n",
            " (คัน : Unit) ,,,,,,,,,,,,,,,,,,,,,,,,,,,,,,,,,,,,,,,,,,,,,,,,,,,,,,,,,,,,,,,,,,,,,,,,,,,,,,,,,,,,,,\n",
            "\n",
            " ประเภทรถ , ทั่วประเทศ , กรุงเทพฯ , ส่วนภูมิภาค ,รวมภาคกลาง,ชัยนาท,สิงห์บุรี,ลพบุรี,อ่างทอง,สระบุรี, พระนครศรีอยุธยา,ปทุมธานี,นนทบุรี,สมุทรปราการ,รวมภาคตะวันออก,นครนายก,ปราจีนบุรี,ฉะเชิงเทรา,ชลบุรี,ระยอง,จันทบุรี,ตราด,สระแก้ว,รวมภาคตะวันออกเฉียงเหนือ,,ชัยภูมิ,ยโสธร,อุบลราชธานี,ศรีสะเกษ,บุรีรัมย์,นครราชสีมา,สุรินทร์,อำนาจเจริญ,หนองบัวลำภู,บึงกาฬ,หนองคาย,เลย,อุดรธานี,นครพนม,สกลนคร,ขอนแก่น,กาฬสินธุ์,มหาสารคาม,ร้อยเอ็ด,มุกดาหาร,รวมภาคเหนือ,เชียงราย,แม่ฮองสอน,เชียงใหม่,พะเยา,น่าน,ลำพูน,ลำปาง,แพร่,อุตรดิตถ์,สุโขทัย,ตาก,พิษณุโลก,กำแพงเพชร,พิจิตร,เพชรบูรณ์,นครสวรรค์,อุทัยธานี,รวมภาคตะวันตก,สุพรรณบุรี,กาญจนบุรี,นครปฐม,ราชบุรี,สมุทรสาคร,สมุทรสงคราม,เพชรบุรี,ประจวบคีรีขันธ์,รวมภาคใต้,ชุมพร,ระนอง,สุราษฎร์ธานี,พังงา,นครศรีธรรมราช,กระบี่,ภูเก็ต,พัทลุง,ตรัง,สงขลา,สตูล,ปัตตานี,ยะลา,นราธิวาส\n",
            "\n",
            " Type of Vehicle , Whole Kingdom , Bangkok , Regional ,Central,Chai Nat,Sing Buri,Lop Buri,Ang Thong,Saraburi,Ayuthaya,Pathum Thani,Nonthaburi,Samut Prakarn,Eastern,Nakhon Nayok,Prachin Buri,Chachoengsao,Chonburi,Rayong,Chanthaburi,Trad,Sra Kaew,North Eastern,,Chaiyaphum,Yasothon,Ubon Ratchathani,Si Sa Ket,Buri Rum,Nakhon Ratchasima,Surin,Amnat Charoen,Nong Bua Lamphu,Bueng Kan,Nong Khai,Loei,Udon Thani,Nakhon Phanom,Sakon Nakhon,Khon Kaen,Kalasin,Maha Sarakham,Roi Et,Mukdahan,Northern,Chiang Rai,Mae Hong Son,Chiang Mai,Phayao,nan,Lamphun,Lampang,Phrae,Uttaradit,Sukhothai,Tak,Phitsanulok,Kamphaeng Phet,Phichit,Phetchabun,Nakhon Sawan,Uthai Thani,Western,Suphan Buri,Khanchanaburi,Nakhon Pathom,Ratchaburi,Samut Sakorn,Samut Songkram,Petchaburi,Prachuap Kiri Khan,Southern,Chumphon,Ranong,Surat Thani,Pang Nga,Nakhon Si Thammarat,Krabi,Phuket,Phatthalung,Trang,Songkhla,Satun,Pattani,Yala,Narathiwat\n",
            "\n",
            " รวมทั้งสิ้น ,\" 36,912,488 \",\" 9,096,936 \",\" 27,815,552 \",\" 2,167,209 \",\" 173,251 \",\" 136,188 \",\" 412,563 \",\" 150,274 \",\" 414,700 \",\" 412,036 \",\" 142,340 \",\" 180,951 \",\" 144,906 \",\" 11,558,744 \",\" 122,791 \",\" 257,259 \",\" 374,960 \",\" 1,414,702 \",\" 678,586 \",\" 359,399 \",\" 131,844 \",\" 219,651 \",\" 7,999,552 \", -   ,\" 359,512 \",\" 204,701 \",\" 698,902 \",\" 385,779 \",\" 484,125 \",\" 1,285,585 \",\" 444,149 \",\" 121,323 \",\" 153,947 \",\" 93,949 \",\" 224,850 \",\" 260,226 \",\" 643,648 \",\" 215,195 \",\" 454,229 \",\" 818,442 \",\" 286,288 \",\" 322,580 \",\" 387,180 \",\" 154,942 \",\" 6,619,539 \",\" 697,713 \",\" 56,344 \",\" 1,331,839 \",\" 264,568 \",\" 223,279 \",\" 269,163 \",\" 444,436 \",\" 252,960 \",\" 256,541 \",\" 303,595 \",\" 218,052 \",\" 479,472 \",\" 354,749 \",\" 290,928 \",\" 442,354 \",\" 555,475 \",\" 178,071 \",\" 2,759,696 \",\" 481,761 \",\" 396,115 \",\" 459,136 \",\" 490,445 \",\" 229,128 \",\" 69,019 \",\" 312,752 \",\" 321,340 \",\" 4,710,364 \",\" 290,435 \",\" 84,686 \",\" 602,113 \",\" 123,651 \",\" 624,345 \",\" 248,503 \",\" 449,453 \",\" 249,132 \",\" 362,862 \",\" 816,344 \",\" 134,169 \",\" 221,379 \",\" 267,946 \",\" 235,346 \"\n",
            "\n",
            " Grand Total ,,,,,,,,,,,,,,,,,,,,,,,,,,,,,,,,,,,,,,,,,,,,,,,,,,,,,,,,,,,,,,,,,,,,,,,,,,,,,,,,,,,,,,\n",
            "\n",
            " ก. รวมรถตามกฎหมายว่าด้วยรถยนต์ ,\" 35,724,757 \",\" 8,918,224 \",\" 26,806,533 \",\" 2,012,509 \",\" 165,213 \",\" 131,025 \",\" 396,898 \",\" 144,529 \",\" 384,296 \",\" 389,699 \",\" 122,473 \",\" 163,401 \",\" 114,975 \",\" 11,138,619 \",\" 118,801 \",\" 246,407 \",\" 352,760 \",\" 1,364,816 \",\" 654,794 \",\" 351,407 \",\" 128,233 \",\" 209,300 \",\" 7,712,101 \", -   ,\" 340,058 \",\" 198,672 \",\" 679,731 \",\" 372,898 \",\" 465,697 \",\" 1,230,505 \",\" 426,905 \",\" 118,067 \",\" 145,839 \",\" 90,791 \",\" 219,083 \",\" 249,412 \",\" 621,138 \",\" 210,517 \",\" 445,259 \",\" 789,533 \",\" 273,599 \",\" 310,664 \",\" 373,252 \",\" 150,481 \",\" 6,439,312 \",\" 682,239 \",\" 55,288 \",\" 1,308,596 \",\" 257,806 \",\" 217,139 \",\" 264,749 \",\" 435,003 \",\" 246,738 \",\" 250,373 \",\" 293,098 \",\" 211,299 \",\" 465,740 \",\" 337,633 \",\" 281,663 \",\" 429,305 \",\" 530,981 \",\" 171,662 \",\" 2,621,854 \",\" 454,940 \",\" 378,022 \",\" 422,833 \",\" 472,778 \",\" 215,008 \",\" 65,740 \",\" 302,377 \",\" 310,156 \",\" 4,594,239 \",\" 283,533 \",\" 81,248 \",\" 584,317 \",\" 119,594 \",\" 609,373 \",\" 242,190 \",\" 438,636 \",\" 242,924 \",\" 355,774 \",\" 791,537 \",\" 131,756 \",\" 217,586 \",\" 263,544 \",\" 232,227 \"\n",
            "\n",
            "     Total Vehicle under Motor Vehicle Act ,,,,,,,,,,,,,,,,,,,,,,,,,,,,,,,,,,,,,,,,,,,,,,,,,,,,,,,,,,,,,,,,,,,,,,,,,,,,,,,,,,,,,,\n",
            "\n",
            "     รย. 1 รถยนต์นั่งส่วนบุคคลไม่เกิน 7 คน Sedan (Not more than 7 Pass.) ,\" 7,848,629 \",\" 3,846,163 \",\" 4,002,466 \",\" 370,329 \",\" 22,265 \",\" 19,342 \",\" 65,284 \",\" 24,006 \",\" 64,638 \",\" 71,394 \",\" 27,053 \",\" 61,832 \",\" 14,515 \",\" 1,583,112 \",\" 19,927 \",\" 38,936 \",\" 51,839 \",\" 241,058 \",\" 129,467 \",\" 55,767 \",\" 13,156 \",\" 23,498 \",\" 1,009,464 \",,\" 31,757 \",\" 22,260 \",\" 95,804 \",\" 34,938 \",\" 42,233 \",\" 198,627 \",\" 42,692 \",\" 11,729 \",\" 14,579 \",\" 9,355 \",\" 25,446 \",\" 30,433 \",\" 90,970 \",\" 18,926 \",\" 47,410 \",\" 155,776 \",\" 33,577 \",\" 35,965 \",\" 46,980 \",\" 20,007 \",\" 945,386 \",\" 97,163 \",\" 2,284 \",\" 281,875 \",\" 30,270 \",\" 24,804 \",\" 26,149 \",\" 70,377 \",\" 33,368 \",\" 30,349 \",\" 30,479 \",\" 23,379 \",\" 89,867 \",\" 38,223 \",\" 25,646 \",\" 41,191 \",\" 77,506 \",\" 22,456 \",\" 321,229 \",\" 50,588 \",\" 53,224 \",\" 65,839 \",\" 58,682 \",\" 7,057 \",\" 7,268 \",\" 43,005 \",\" 35,566 \",\" 782,410 \",\" 33,371 \",\" 10,321 \",\" 105,007 \",\" 12,613 \",\" 95,281 \",\" 44,525 \",\" 102,918 \",\" 32,606 \",\" 50,484 \",\" 201,704 \",\" 15,746 \",\" 24,781 \",\" 32,971 \",\" 20,082 \"\n",
            "\n",
            "     รย. 2 รถยนต์นั่งส่วนบุคคลเกิน 7 คน Microbus & Passenger Van ,\" 427,769 \",\" 214,187 \",\" 213,582 \",\" 29,220 \",\" 1,297 \",\" 1,317 \",\" 3,837 \",\" 1,461 \",\" 3,612 \",\" 4,939 \",\" 3,851 \",\" 6,148 \",\" 2,758 \",\" 87,417 \",\" 1,511 \",\" 2,741 \",\" 3,787 \",\" 10,585 \",\" 5,324 \",\" 2,667 \", 981 ,\" 1,679 \",\" 58,142 \",,\" 2,640 \",\" 1,699 \",\" 4,801 \",\" 3,176 \",\" 3,161 \",\" 9,522 \",\" 3,331 \", 872 , 778 , 513 ,\" 1,602 \",\" 1,811 \",\" 4,727 \",\" 1,502 \",\" 3,378 \",\" 6,303 \",\" 2,571 \",\" 2,056 \",\" 2,668 \",\" 1,031 \",\" 48,910 \",\" 5,515 \", 490 ,\" 12,210 \",\" 1,568 \",\" 1,333 \",\" 2,179 \",\" 4,138 \",\" 1,509 \",\" 1,873 \",\" 2,255 \",\" 1,827 \",\" 3,565 \",\" 1,863 \",\" 1,797 \",\" 2,229 \",\" 3,499 \",\" 1,060 \",\" 19,749 \",\" 3,558 \",\" 2,922 \",\" 3,883 \",\" 3,470 \", 959 , 635 ,\" 2,478 \",\" 1,844 \",\" 28,286 \",\" 1,355 \", 592 ,\" 3,882 \", 752 ,\" 3,520 \",\" 1,650 \",\" 3,195 \",\" 1,154 \",\" 1,506 \",\" 6,022 \", 740 ,\" 1,361 \",\" 1,375 \",\" 1,182 \"\n",
            "\n",
            "     รย. 3 รถยนต์บรรทุกส่วนบุคคล Van & Pick Up ,\" 6,167,296 \",\" 1,250,352 \",\" 4,916,944 \",\" 381,441 \",\" 31,573 \",\" 21,862 \",\" 73,594 \",\" 29,623 \",\" 70,127 \",\" 68,496 \",\" 29,163 \",\" 40,361 \",\" 16,642 \",\" 2,087,119 \",\" 23,155 \",\" 50,241 \",\" 67,161 \",\" 184,468 \",\" 119,664 \",\" 82,826 \",\" 23,122 \",\" 45,819 \",\" 1,490,663 \",,\" 63,595 \",\" 41,161 \",\" 129,570 \",\" 79,007 \",\" 78,686 \",\" 226,157 \",\" 70,640 \",\" 23,476 \",\" 34,199 \",\" 16,179 \",\" 37,451 \",\" 60,309 \",\" 114,139 \",\" 30,835 \",\" 79,398 \",\" 173,173 \",\" 66,093 \",\" 61,497 \",\" 76,053 \",\" 29,045 \",\" 1,209,536 \",\" 128,208 \",\" 6,410 \",\" 227,216 \",\" 49,692 \",\" 46,504 \",\" 58,412 \",\" 85,848 \",\" 49,970 \",\" 41,928 \",\" 52,532 \",\" 38,906 \",\" 83,940 \",\" 67,392 \",\" 48,553 \",\" 93,337 \",\" 96,970 \",\" 33,718 \",\" 481,087 \",\" 92,261 \",\" 73,361 \",\" 96,835 \",\" 81,652 \",\" 11,117 \",\" 11,522 \",\" 53,482 \",\" 60,857 \",\" 757,761 \",\" 73,813 \",\" 15,154 \",\" 118,033 \",\" 17,736 \",\" 109,489 \",\" 52,313 \",\" 42,233 \",\" 40,258 \",\" 55,665 \",\" 127,699 \",\" 16,386 \",\" 32,858 \",\" 33,615 \",\" 22,509 \"\n",
            "\n",
            "     รย. 4 รถยนต์สามล้อส่วนบุคคล Motortricycle ,\" 1,654 \", 839 , 815 , 371 , -   , -   , 7 , 1 , 1 , 7 , 3 , 334 , 18 , 94 , -   , -   , 1 , 33 , 2 , 9 , 2 , -   , 47 ,, 1 , -   , 15 , 1 , 1 , 15 , -   , -   , -   , -   , -   , -   , 6 , 1 , -   , 4 , -   , -   , 1 , 2 , 157 , 5 , -   , 61 , 18 , -   , 1 , 1 , 1 , 2 , 1 , 4 , 52 , -   , 1 , 6 , 4 , -   , 35 , 4 , 3 , 11 , 1 , 5 , 1 , 6 , 4 , 158 , 3 , -   , 7 , 2 , 11 , 7 , 12 , 3 , 77 , 28 , 2 , 2 , 2 , 2 \n",
            "\n",
            "     รย. 5 รถยนต์รับจ้างระหว่างจังหวัด Interprovincial Taxi , 8 , -   , 8 , -   , -   , -   , -   , -   , -   , -   , -   , -   , -   , 1 , -   , -   , -   , -   , -   , 1 , -   , -   , -   ,, -   , -   , -   , -   , -   , -   , -   , -   , -   , -   , -   , -   , -   , -   , -   , -   , -   , -   , -   , -   , 4 , 2 , -   , -   , -   , -   , -   , -   , -   , 1 , -   , -   , 1 , -   , -   , -   , -   , -   , -   , -   , -   , -   , -   , -   , -   , -   , -   , 3 , -   , -   , -   , -   , -   , -   , -   , -   , 3 , -   , -   , -   , -   , -   \n",
            "\n",
            "     รย. 6 รถยนต์รับจ้างบรรทุกคนโดยสารไม่เกิน 7 คน Urban Taxi ,\" 102,525 \",\" 98,789 \",\" 3,736 \", 1 , -   , -   , 1 , -   , -   , -   , -   , -   , -   ,\" 1,826 \", -   , -   , -   , 573 , 22 , -   , -   , -   ,\" 1,231 \",, -   , -   , 496 , 50 , 25 , 116 , 14 , -   , -   , -   , 14 , 23 , 49 , 10 , 16 , 356 , 4 , 45 , 2 , 11 , 768 , 225 , -   , 324 , -   , 10 , -   , 7 , 1 , -   , 1 , 20 , 179 , -   , 1 , -   , -   , -   , -   , -   , -   , -   , -   , -   , -   , -   , -   ,\" 1,141 \", -   , -   , 644 , -   , 57 , 12 , 338 , -   , -   , 90 , -   , -   , -   , -   \n",
            "\n",
            "     รย. 7 รถยนต์สี่ล้อเล็กรับจ้าง Fixed Route Taxi ,\" 2,976 \",\" 2,459 \", 517 , -   , -   , -   , -   , -   , -   , -   , -   , -   , -   , -   , -   , -   , -   , -   , -   , -   , -   , -   , -   ,, -   , -   , -   , -   , -   , -   , -   , -   , -   , -   , -   , -   , -   , -   , -   , -   , -   , -   , -   , -   , 1 , -   , -   , 1 , -   , -   , -   , -   , -   , -   , -   , -   , -   , -   , -   , -   , -   , -   , -   , -   , -   , -   , -   , -   , -   , -   , -   , 516 , -   , -   , -   , -   , -   , -   , 516 , -   , -   , -   , -   , -   , -   , -   \n",
            "\n",
            "     รย. 8 รถยนต์รับจ้างสามล้อ Motortricycle Taxi (Tuk Tuk) ,\" 20,266 \",\" 9,039 \",\" 11,227 \",\" 3,940 \", 17 , 1 , 1 , 41 , 14 ,\" 1,343 \", -   ,\" 1,739 \", 784 ,\" 4,554 \", 1 , 539 ,\" 1,063 \", 889 , 1 , 58 , 28 , 83 ,\" 1,892 \",, 57 , -   , 430 , -   , 43 , 785 , 18 , 1 , -   , -   , 3 , 2 , 2 , 35 , -   , 509 , 1 , -   , 6 , -   ,\" 1,690 \", 189 , 14 ,\" 1,141 \", 4 , -   , 1 , -   , -   , 6 , 4 , 51 , 130 , 1 , 32 , 75 , 42 , -   , 830 , 106 , 13 , 88 , 103 , 233 , 189 , 21 , 77 , 213 , -   , -   , -   , -   , -   , -   , -   , -   , 210 , -   , -   , -   , 3 , -   \n",
            "\n",
            "     รย. 9 รถยนต์บริการธุรกิจ Hotel Taxi ,\" 3,981 \", 708 ,\" 3,273 \", 41 , -   , -   , -   , -   , -   , -   , -   , 39 , 2 , 50 , -   , -   , -   , 4 , 2 , -   , -   , -   , 44 ,, -   , -   , -   , -   , -   , -   , -   , -   , -   , -   , 10 , -   , 24 , 2 , -   , 8 , -   , -   , -   , -   , 220 , 59 , -   , 161 , -   , -   , -   , -   , -   , -   , -   , -   , -   , -   , -   , -   , -   , -   , 162 , -   , -   , -   , -   , -   , -   , -   , 162 ,\" 2,800 \", -   , -   , 45 , 251 , 27 , 107 ,\" 2,350 \", -   , -   , 20 , -   , -   , -   , -   \n",
            "\n",
            "     รย.10 รถยนต์บริการทัศนาจร Tour Taxi ,\" 4,157 \",\" 1,388 \",\" 2,769 \", 5 , -   , -   , -   , -   , -   , -   , -   , 2 , 3 , -   , -   , -   , -   , -   , -   , -   , -   , -   , -   ,, -   , -   , -   , -   , -   , -   , -   , -   , -   , -   , -   , -   , -   , -   , -   , -   , -   , -   , -   , -   , -   , -   , -   , -   , -   , -   , -   , -   , -   , -   , -   , -   , -   , -   , -   , -   , -   , -   , -   , -   , -   , -   , -   , -   , -   , -   , -   ,\" 2,764 \", -   , -   , 5 , 24 , -   , 364 ,\" 2,370 \", -   , 1 , -   , -   , -   , -   , -   \n",
            "\n",
            "     รย.11 รถยนต์บริการให้เช่า Car For Hire , 60 , 59 , 1 , -   , -   , -   , -   , -   , -   , -   , -   , -   , -   , -   , -   , -   , -   , -   , -   , -   , -   , -   , -   ,, -   , -   , -   , -   , -   , -   , -   , -   , -   , -   , -   , -   , -   , -   , -   , -   , -   , -   , -   , -   , -   , -   , -   , -   , -   , -   , -   , -   , -   , -   , -   , -   , -   , -   , -   , -   , -   , -   , -   , -   , -   , -   , -   , -   , -   , -   , -   , 1 , -   , -   , -   , 1 , -   , -   , -   , -   , -   , -   , -   , -   , -   , -   \n",
            "\n",
            "     รย.12 รถจักรยานยนต์ส่วนบุคคล Motorcycle ,\" 20,342,403 \",\" 3,308,512 \",\" 17,033,891 \",\" 1,141,281 \",\" 106,569 \",\" 87,289 \",\" 237,291 \",\" 88,032 \",\" 238,719 \",\" 236,860 \",\" 53,619 \",\" 43,928 \",\" 48,974 \",\" 7,060,085 \",\" 73,230 \",\" 151,043 \",\" 224,371 \",\" 909,767 \",\" 396,639 \",\" 206,611 \",\" 90,546 \",\" 130,076 \",\" 4,877,802 \",,\" 210,535 \",\" 128,497 \",\" 430,200 \",\" 243,676 \",\" 326,465 \",\" 712,695 \",\" 296,689 \",\" 78,725 \",\" 91,221 \",\" 63,153 \",\" 149,718 \",\" 148,895 \",\" 395,606 \",\" 155,528 \",\" 306,766 \",\" 440,066 \",\" 162,851 \",\" 202,606 \",\" 235,507 \",\" 98,403 \",\" 4,078,498 \",\" 440,470 \",\" 45,813 \",\" 780,396 \",\" 172,054 \",\" 141,792 \",\" 176,987 \",\" 273,260 \",\" 159,159 \",\" 158,624 \",\" 195,861 \",\" 142,611 \",\" 271,623 \",\" 215,248 \",\" 196,524 \",\" 270,095 \",\" 329,587 \",\" 108,394 \",\" 1,764,307 \",\" 301,149 \",\" 241,398 \",\" 250,464 \",\" 326,128 \",\" 190,613 \",\" 45,088 \",\" 200,809 \",\" 208,658 \",\" 2,989,720 \",\" 172,985 \",\" 54,470 \",\" 351,997 \",\" 87,602 \",\" 396,522 \",\" 142,418 \",\" 282,229 \",\" 166,703 \",\" 245,644 \",\" 450,873 \",\" 98,383 \",\" 157,673 \",\" 195,153 \",\" 187,068 \"\n",
            "\n",
            "     รย.13 รถแทรกเตอร์ Tractor ,\" 494,032 \",\" 88,853 \",\" 405,179 \",\" 41,664 \",\" 3,216 \",\" 1,000 \",\" 15,319 \", 741 ,\" 4,972 \",\" 1,966 \", 256 ,\" 1,045 \",\" 13,149 \",\" 213,535 \", 502 ,\" 2,412 \",\" 2,285 \",\" 4,489 \",\" 2,170 \",\" 2,797 \", 125 ,\" 7,683 \",\" 191,072 \",,\" 13,545 \",\" 4,050 \",\" 17,676 \",\" 11,249 \",\" 12,202 \",\" 34,196 \",\" 11,712 \",\" 3,119 \",\" 4,653 \",\" 1,587 \",\" 4,528 \",\" 7,678 \",\" 13,993 \",\" 3,589 \",\" 7,983 \",\" 11,883 \",\" 8,033 \",\" 7,592 \",\" 9,887 \",\" 1,917 \",\" 116,924 \",\" 8,590 \", 141 ,\" 4,238 \",\" 3,954 \",\" 2,511 \", 827 , 955 ,\" 2,401 \",\" 5,462 \",\" 9,342 \",\" 3,140 \",\" 9,627 \",\" 13,847 \",\" 6,267 \",\" 19,648 \",\" 20,477 \",\" 5,497 \",\" 18,435 \",\" 6,374 \",\" 6,055 \",\" 1,374 \",\" 1,125 \", 179 , 80 ,\" 1,366 \",\" 1,882 \",\" 14,621 \",\" 1,277 \", 137 ,\" 3,913 \", 147 ,\" 2,755 \", 332 , 366 ,\" 1,392 \", 859 ,\" 2,526 \", 151 , 210 , 273 , 283 \n",
            "\n",
            "     รย.14 รถบดถนน Road Roller ,\" 12,533 \",\" 3,516 \",\" 9,017 \", 700 , 33 , 44 , 121 , 57 , 115 , 75 , 55 , 155 , 45 ,\" 3,621 \", 34 , 167 , 85 , 277 , 131 , 129 , 23 , 115 ,\" 2,660 \",, 95 , 107 , 224 , 177 , 412 , 376 , 250 , 27 , 95 , 2 , 28 , 78 , 146 , 28 , 119 , 187 , 104 , 70 , 81 , 54 ,\" 2,201 \", 235 , 13 , 355 , 69 , 72 , 48 , 114 , 117 , 82 , 158 , 74 , 175 , 111 , 158 , 200 , 167 , 53 ,\" 1,117 \", 255 , 85 , 157 , 382 , 19 , 39 , 89 , 91 ,\" 1,378 \", 113 , 37 , 250 , 39 , 110 , 39 , 23 , 56 , 86 , 282 , 43 , 92 , 97 , 111 \n",
            "\n",
            "     รย.15 รถใช้งานเกษตรกรรม Farm Vehicle ,\" 103,378 \", 6 ,\" 103,372 \", 991 , 81 , -   , 236 , -   , 133 , 533 , 7 , 1 , -   ,\" 72,290 \", 70 , 21 , 110 , 13 , 15 , 7 , 1 , 51 ,\" 72,002 \",,\" 17,744 \", 710 , 201 , 248 ,\" 1,764 \",\" 44,762 \", 467 , 19 , 284 , -   , 259 , 171 ,\" 1,356 \", 56 , 58 , 975 , 308 , 667 ,\" 1,946 \", 7 ,\" 29,615 \", 920 , 3 , 29 , 42 , 6 , 26 , 127 , 119 ,\" 11,912 \",\" 2,312 \", 18 ,\" 6,290 \", 774 ,\" 2,468 \",\" 2,181 \",\" 2,045 \", 343 , 432 , 43 , 27 , 3 , 8 , -   , 3 , 318 , 30 , 44 , 2 , 1 , 3 , 1 , 6 , 3 , -   , -   , 3 , 4 , -   , -   , 2 , 19 \n",
            "\n",
            "     รย.16 รถพ่วง Automobile Trailer ,\" 3,597 \",\" 2,073 \",\" 1,524 \", 99 , 4 , -   , 9 , 6 , 37 , 23 , 13 , 2 , 5 ,\" 1,109 \", 1 , 2 , 5 , 217 , 26 , 8 , -   , 4 , 846 ,, 8 , -   , 28 , 6 , 7 , 686 , 14 , 1 , 5 , 2 , 10 , 5 , 39 , 1 , 2 , 24 , 3 , 2 , 3 , -   , 116 , 14 , 6 , 18 , 2 , 2 , 7 , 7 , -   , 6 , 17 , 3 , 6 , 8 , 8 , 1 , 10 , 1 , 97 , 6 , 28 , 5 , 14 , 2 , -   , 14 , 28 , 103 , 18 , 3 , 20 , 1 , 3 , 8 , 21 , 5 , 3 , 16 , 1 , 1 , -   , 3 \n",
            "\n",
            "     รย.17 รถจักรยานยนต์สาธารณะ Public Motorcycle ,\" 189,493 \",\" 91,281 \",\" 98,212 \",\" 42,426 \", 158 , 170 ,\" 1,198 \", 561 ,\" 1,928 \",\" 4,063 \",\" 8,453 \",\" 7,815 \",\" 18,080 \",\" 23,806 \", 370 , 305 ,\" 2,053 \",\" 12,443 \",\" 1,331 \", 527 , 249 , 292 ,\" 6,236 \",, 81 , 188 , 286 , 370 , 698 ,\" 2,568 \",\" 1,078 \", 98 , 25 , -   , 14 , 7 , 81 , 4 , 129 , 269 , 54 , 164 , 118 , 4 ,\" 5,286 \", 644 , 114 , 571 , 133 , 105 , 112 , 169 , 93 , 128 , 136 ,\" 1,266 \", 285 , 166 , 208 , 342 , 674 , 140 ,\" 14,374 \", 596 , 906 ,\" 4,174 \",\" 1,213 \",\" 4,824 \", 915 , 789 , 957 ,\" 12,320 \", 596 , 533 , 511 , 425 ,\" 1,592 \", 412 ,\" 2,065 \", 747 ,\" 1,233 \",\" 2,273 \", 304 , 608 , 53 , 968 \n",
            "\n",
            " ข. รวมรถตามกฎหมายว่าด้วยการขนส่งทางบก ,\" 1,187,731 \",\" 178,712 \",\" 1,009,019 \",\" 154,700 \",\" 8,038 \",\" 5,163 \",\" 15,665 \",\" 5,745 \",\" 30,404 \",\" 22,337 \",\" 19,867 \",\" 17,550 \",\" 29,931 \",\" 420,125 \",\" 3,990 \",\" 10,852 \",\" 22,200 \",\" 49,886 \",\" 23,792 \",\" 7,992 \",\" 3,611 \",\" 10,351 \",\" 287,451 \", -   ,\" 19,454 \",\" 6,029 \",\" 19,171 \",\" 12,881 \",\" 18,428 \",\" 55,080 \",\" 17,244 \",\" 3,256 \",\" 8,108 \",\" 3,158 \",\" 5,767 \",\" 10,814 \",\" 22,510 \",\" 4,678 \",\" 8,970 \",\" 28,909 \",\" 12,689 \",\" 11,916 \",\" 13,928 \",\" 4,461 \",\" 180,227 \",\" 15,474 \",\" 1,056 \",\" 23,243 \",\" 6,762 \",\" 6,140 \",\" 4,414 \",\" 9,433 \",\" 6,222 \",\" 6,168 \",\" 10,497 \",\" 6,753 \",\" 13,732 \",\" 17,116 \",\" 9,265 \",\" 13,049 \",\" 24,494 \",\" 6,409 \",\" 137,842 \",\" 26,821 \",\" 18,093 \",\" 36,303 \",\" 17,667 \",\" 14,120 \",\" 3,279 \",\" 10,375 \",\" 11,184 \",\" 116,125 \",\" 6,902 \",\" 3,438 \",\" 17,796 \",\" 4,057 \",\" 14,972 \",\" 6,313 \",\" 10,817 \",\" 6,208 \",\" 7,088 \",\" 24,807 \",\" 2,413 \",\" 3,793 \",\" 4,402 \",\" 3,119 \"\n",
            "\n",
            "     Total Vehicle under Land Transport Act ,,,,,,,,,,,,,,,,,,,,,,,,,,,,,,,,,,,,,,,,,,,,,,,,,,,,,,,,,,,,,,,,,,,,,,,,,,,,,,,,,,,,,,\n",
            "\n",
            "     รวมรถโดยสาร Bus : Total ,\" 153,454 \",\" 42,921 \",\" 110,533 \",\" 15,918 \", 377 , 442 ,\" 1,816 \", 988 ,\" 1,081 \",\" 3,162 \",\" 2,246 \",\" 2,004 \",\" 3,802 \",\" 39,884 \", 371 , 661 ,\" 2,283 \",\" 5,988 \",\" 1,950 \",\" 1,099 \", 702 , 504 ,\" 26,326 \", -   , 975 , 655 ,\" 2,090 \",\" 1,155 \",\" 1,051 \",\" 6,001 \",\" 1,332 \", 192 , 701 , 152 , 461 , 655 ,\" 2,526 \", 588 ,\" 1,273 \",\" 3,045 \", 801 ,\" 1,005 \",\" 1,313 \", 355 ,\" 17,668 \",\" 1,788 \", 204 ,\" 6,584 \", 459 , 454 , 434 ,\" 1,210 \", 458 , 408 , 532 , 839 , 844 , 628 , 346 , 667 ,\" 1,331 \", 482 ,\" 9,088 \",\" 1,762 \",\" 1,176 \",\" 1,497 \", 923 ,\" 1,655 \", 496 , 692 , 887 ,\" 27,975 \", 621 , 604 ,\" 3,124 \",\" 1,399 \",\" 2,815 \",\" 1,763 \",\" 6,707 \",\" 1,130 \", 881 ,\" 6,004 \", 554 , 863 ,\" 1,130 \", 380 \n",
            "\n",
            "     แยกเป็น - ประจำทาง Fixed Route Bus ,\" 85,311 \",\" 24,421 \",\" 60,890 \",\" 6,925 \", 130 , 231 , 823 , 214 , 343 ,\" 1,034 \", 938 , 880 ,\" 2,332 \",\" 25,324 \", 185 , 279 , 883 ,\" 3,187 \",\" 1,248 \", 382 , 434 , 276 ,\" 18,450 \",, 689 , 499 ,\" 1,545 \", 705 , 708 ,\" 3,658 \", 901 , 132 , 553 , 52 , 283 , 476 ,\" 2,042 \", 410 , 997 ,\" 2,413 \", 500 , 760 , 873 , 254 ,\" 11,171 \",\" 1,127 \", 126 ,\" 4,157 \", 239 , 248 , 305 , 909 , 360 , 230 , 350 , 624 , 375 , 391 , 109 , 446 , 911 , 264 ,\" 5,301 \",\" 1,124 \", 873 , 791 , 505 ,\" 1,070 \", 398 , 216 , 324 ,\" 12,169 \", 449 , 510 ,\" 2,095 \", 396 ,\" 2,238 \", 602 , 403 , 835 , 546 ,\" 2,590 \", 377 , 452 , 447 , 229 \n",
            "\n",
            "                   - ไม่ประจำทาง Non Fixed Route Bus ,\" 56,158 \",\" 15,444 \",\" 40,714 \",\" 7,658 \", 212 , 170 , 809 , 721 , 631 ,\" 1,982 \",\" 1,070 \", 825 ,\" 1,238 \",\" 10,952 \", 167 , 345 ,\" 1,276 \",\" 2,327 \", 514 , 658 , 243 , 205 ,\" 5,217 \",, 147 , 109 , 308 , 212 , 214 ,\" 1,980 \", 313 , 35 , 79 , 57 , 132 , 104 , 275 , 136 , 175 , 312 , 186 , 134 , 223 , 86 ,\" 4,950 \", 535 , 55 ,\" 2,103 \", 166 , 155 , 84 , 160 , 47 , 132 , 124 , 152 , 387 , 153 , 147 , 127 , 247 , 176 ,\" 2,929 \", 500 , 196 , 473 , 334 , 441 , 87 , 391 , 507 ,\" 14,225 \", 154 , 84 , 933 , 951 , 317 ,\" 1,091 \",\" 6,119 \", 205 , 217 ,\" 3,121 \", 141 , 254 , 549 , 89 \n",
            "\n",
            "                   - ส่วนบุคคล Private Bus ,\" 11,985 \",\" 3,056 \",\" 8,929 \",\" 1,335 \", 35 , 41 , 184 , 53 , 107 , 146 , 238 , 299 , 232 ,\" 3,608 \", 19 , 37 , 124 , 474 , 188 , 59 , 25 , 23 ,\" 2,659 \",, 139 , 47 , 237 , 238 , 129 , 363 , 118 , 25 , 69 , 43 , 46 , 75 , 209 , 42 , 101 , 320 , 115 , 111 , 217 , 15 ,\" 1,547 \", 126 , 23 , 324 , 54 , 51 , 45 , 141 , 51 , 46 , 58 , 63 , 82 , 84 , 90 , 94 , 173 , 42 , 858 , 138 , 107 , 233 , 84 , 144 , 11 , 85 , 56 ,\" 1,581 \", 18 , 10 , 96 , 52 , 260 , 70 , 185 , 90 , 118 , 293 , 36 , 157 , 134 , 62 \n",
            "\n",
            "     รวมรถบรรทุก Truck : Total ,\" 1,033,403 \",\" 135,791 \",\" 897,612 \",\" 138,754 \",\" 7,657 \",\" 4,720 \",\" 13,848 \",\" 4,757 \",\" 29,323 \",\" 19,173 \",\" 17,621 \",\" 15,533 \",\" 26,122 \",\" 380,034 \",\" 3,619 \",\" 10,191 \",\" 19,917 \",\" 43,889 \",\" 21,841 \",\" 6,893 \",\" 2,909 \",\" 9,845 \",\" 260,930 \", -   ,\" 18,479 \",\" 5,363 \",\" 17,081 \",\" 11,717 \",\" 17,377 \",\" 49,066 \",\" 15,910 \",\" 3,064 \",\" 7,405 \",\" 3,006 \",\" 5,304 \",\" 10,159 \",\" 19,982 \",\" 4,090 \",\" 7,634 \",\" 25,860 \",\" 11,886 \",\" 10,830 \",\" 12,611 \",\" 4,106 \",\" 162,146 \",\" 13,678 \", 849 ,\" 16,659 \",\" 6,293 \",\" 5,685 \",\" 3,980 \",\" 8,215 \",\" 5,745 \",\" 5,760 \",\" 9,965 \",\" 5,913 \",\" 12,887 \",\" 16,445 \",\" 8,916 \",\" 12,267 \",\" 22,965 \",\" 5,924 \",\" 128,722 \",\" 25,055 \",\" 16,913 \",\" 34,792 \",\" 16,744 \",\" 12,458 \",\" 2,782 \",\" 9,683 \",\" 10,295 \",\" 87,956 \",\" 6,278 \",\" 2,834 \",\" 14,644 \",\" 2,649 \",\" 12,137 \",\" 4,550 \",\" 4,110 \",\" 5,051 \",\" 6,206 \",\" 18,802 \",\" 1,858 \",\" 2,898 \",\" 3,251 \",\" 2,688 \"\n",
            "\n",
            "     แยกเป็น - ไม่ประจำทาง Non Fixed Route Truck ,\" 261,415 \",\" 71,837 \",\" 189,578 \",\" 46,091 \",\" 1,047 \", 560 ,\" 1,084 \", 374 ,\" 10,919 \",\" 7,743 \",\" 5,646 \",\" 5,191 \",\" 13,527 \",\" 66,663 \", 894 ,\" 1,093 \",\" 6,583 \",\" 17,087 \",\" 9,287 \", 600 , 371 ,\" 1,098 \",\" 29,650 \",,\" 1,516 \", 448 ,\" 2,240 \", 568 ,\" 1,307 \",\" 5,827 \",\" 1,635 \", 149 , 680 , 457 ,\" 1,667 \", 902 ,\" 3,461 \", 472 , 711 ,\" 3,154 \", 807 ,\" 1,675 \",\" 1,067 \", 907 ,\" 25,435 \",\" 3,702 \", 76 ,\" 4,054 \",\" 1,097 \", 476 , 530 ,\" 2,805 \", 282 , 795 , 585 ,\" 2,241 \",\" 1,377 \",\" 1,153 \", 415 , 402 ,\" 5,267 \", 178 ,\" 30,286 \",\" 1,090 \",\" 2,664 \",\" 10,511 \",\" 3,788 \",\" 4,125 \", 539 ,\" 4,467 \",\" 3,102 \",\" 21,103 \",\" 1,339 \", 601 ,\" 3,087 \", 189 ,\" 1,749 \", 311 , 467 ,\" 1,001 \",\" 1,645 \",\" 8,937 \", 269 , 460 , 637 , 411 \n",
            "\n",
            "                   - ส่วนบุคคล Private Truck ,\" 771,988 \",\" 63,954 \",\" 708,034 \",\" 92,663 \",\" 6,610 \",\" 4,160 \",\" 12,764 \",\" 4,383 \",\" 18,404 \",\" 11,430 \",\" 11,975 \",\" 10,342 \",\" 12,595 \",\" 313,371 \",\" 2,725 \",\" 9,098 \",\" 13,334 \",\" 26,802 \",\" 12,554 \",\" 6,293 \",\" 2,538 \",\" 8,747 \",\" 231,280 \",,\" 16,963 \",\" 4,915 \",\" 14,841 \",\" 11,149 \",\" 16,070 \",\" 43,239 \",\" 14,275 \",\" 2,915 \",\" 6,725 \",\" 2,549 \",\" 3,637 \",\" 9,257 \",\" 16,521 \",\" 3,618 \",\" 6,923 \",\" 22,706 \",\" 11,079 \",\" 9,155 \",\" 11,544 \",\" 3,199 \",\" 136,711 \",\" 9,976 \", 773 ,\" 12,605 \",\" 5,196 \",\" 5,209 \",\" 3,450 \",\" 5,410 \",\" 5,463 \",\" 4,965 \",\" 9,380 \",\" 3,672 \",\" 11,510 \",\" 15,292 \",\" 8,501 \",\" 11,865 \",\" 17,698 \",\" 5,746 \",\" 98,436 \",\" 23,965 \",\" 14,249 \",\" 24,281 \",\" 12,956 \",\" 8,333 \",\" 2,243 \",\" 5,216 \",\" 7,193 \",\" 66,853 \",\" 4,939 \",\" 2,233 \",\" 11,557 \",\" 2,460 \",\" 10,388 \",\" 4,239 \",\" 3,643 \",\" 4,050 \",\" 4,561 \",\" 9,865 \",\" 1,589 \",\" 2,438 \",\" 2,614 \",\" 2,277 \"\n",
            "\n",
            "     โดยรถขนาดเล็ก Small Rural Bus , 874 , -   , 874 , 28 , 4 , 1 , 1 , -   , -   , 2 , -   , 13 , 7 , 207 , -   , -   , -   , 9 , 1 , -   , -   , 2 , 195 ,, -   , 11 , -   , 9 , -   , 13 , 2 , -   , 2 , -   , 2 , -   , 2 , -   , 63 , 4 , 2 , 81 , 4 , -   , 413 , 8 , 3 , -   , 10 , 1 , -   , 8 , 19 , -   , -   , 1 , 1 , 43 , 3 , 115 , 198 , 3 , 32 , 4 , 4 , 14 , -   , 7 , 1 , -   , 2 , 194 , 3 , -   , 28 , 9 , 20 , -   , -   , 27 , 1 , 1 , 1 , 32 , 21 , 51 \n",
            "\n",
            ",,,,,,,,,,,,,,,,,,,,,,,,,,,,,,,,,,,,,,,,,,,,,,,,,,,,,,,,,,,,,,,,,,,,,,,,,,,,,,,,,,,,,,\n",
            "\n",
            " กลุ่มสถิติการขนส่ง  กองแผนงาน  กรมการขนส่งทางบก  ,,,,,,,,,,,,,,,,,,,,,,,,,,,,,,,,,,,,,,,,,,,,,,,,,,,,,,,,,,,,,,,,,,,,,,,,,,,,,,,,,,,,,,\n",
            "\n",
            "\" (Transport Statistics Sub-Division, Planning Division , Department of Land Transport) \",,,,,,,,,,,,,,,,,,,,,,,,,,,,,,,,,,,,,,,,,,,,,,,,,,,,,,,,,,,,,,,,,,,,,,,,,,,,,,,,,,,,,,\n",
            "\n",
            ",,,,,,,,,,,,,,,,,,,,,,,,,,,,,,,,,,,,,,,,,,,,,,,,,,,,,,,,,,,,,,,,,,,,,,,,,,,,,,,,,,,,,,\n",
            "\n"
          ]
        }
      ]
    },
    {
      "cell_type": "markdown",
      "source": [
        "for line in f (is looping, loop does in every lines of f)\n",
        "- cp874 = thai(window)"
      ],
      "metadata": {
        "id": "bN0hFuUBv8nI"
      }
    }
  ]
}