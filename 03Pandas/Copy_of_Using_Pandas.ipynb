{
  "nbformat": 4,
  "nbformat_minor": 0,
  "metadata": {
    "colab": {
      "provenance": [],
      "include_colab_link": true
    },
    "kernelspec": {
      "name": "python3",
      "display_name": "Python 3"
    }
  },
  "cells": [
    {
      "cell_type": "markdown",
      "metadata": {
        "id": "view-in-github",
        "colab_type": "text"
      },
      "source": [
        "<a href=\"https://colab.research.google.com/github/incluDna/Python_for_DataSci/blob/main/Copy_of_Using_Pandas.ipynb\" target=\"_parent\"><img src=\"https://colab.research.google.com/assets/colab-badge.svg\" alt=\"Open In Colab\"/></a>"
      ]
    },
    {
      "cell_type": "markdown",
      "metadata": {
        "id": "Phz-U6v0Iq1e"
      },
      "source": [
        "# Import Data from URL"
      ]
    },
    {
      "cell_type": "markdown",
      "metadata": {
        "id": "y-k_tDpjI0-K"
      },
      "source": [
        "เราสามารถใช้ Library Pandas ในการจัดการ data ได้ง่ายมาก สามารถอ่านเขียนไฟล์ csv หรือ xlsx ได้ด้วยการใช้คำสั่งง่าย ๆ เช่น\n",
        "\n",
        "\n",
        "\n",
        "```\n",
        "import pandas as pd\n",
        "df = pd.read_excel(filename)\n",
        "```\n",
        "\n",
        "หรือในกรณีวันนี้ เนื่องจากเราสามารถโหลดไฟล์จากอินเทอร์เน็ตได้ เราจึงสามารถใช้คำสั่ง\n",
        "\n",
        "\n",
        "```\n",
        "import pandas as pd\n",
        "\n",
        "url=\"https://github.com/ssukree/testrd/raw/master/data.xlsx\"\n",
        "c=pd.read_csv(url)\n",
        "```\n",
        "\n",
        "\n",
        "\n"
      ]
    },
    {
      "cell_type": "code",
      "metadata": {
        "id": "UUDhPQcaIv40",
        "colab": {
          "base_uri": "https://localhost:8080/",
          "height": 34
        },
        "outputId": "9424a725-b26d-4198-98e5-bca1ed20be15"
      },
      "source": [
        "import pandas as pd\n",
        "\n",
        "url=\"https://github.com/ssukree/testrd/raw/master/data.xlsx\"\n",
        "df = pd.read_excel(url)"
      ],
      "execution_count": null,
      "outputs": [
        {
          "output_type": "stream",
          "text": [
            "Requirement already satisfied: xlrd in /usr/local/lib/python3.6/dist-packages (1.1.0)\n"
          ],
          "name": "stdout"
        }
      ]
    },
    {
      "cell_type": "markdown",
      "metadata": {
        "id": "A_YjJhThnyYM"
      },
      "source": [
        "# Show Data"
      ]
    },
    {
      "cell_type": "code",
      "metadata": {
        "id": "WEsVvLRSRC2r",
        "colab": {
          "base_uri": "https://localhost:8080/",
          "height": 464
        },
        "outputId": "646ce3a1-5710-401b-c2b2-c2996c798aab"
      },
      "source": [
        "df.head()\n"
      ],
      "execution_count": null,
      "outputs": [
        {
          "output_type": "execute_result",
          "data": {
            "text/html": [
              "<div>\n",
              "<style scoped>\n",
              "    .dataframe tbody tr th:only-of-type {\n",
              "        vertical-align: middle;\n",
              "    }\n",
              "\n",
              "    .dataframe tbody tr th {\n",
              "        vertical-align: top;\n",
              "    }\n",
              "\n",
              "    .dataframe thead th {\n",
              "        text-align: right;\n",
              "    }\n",
              "</style>\n",
              "<table border=\"1\" class=\"dataframe\">\n",
              "  <thead>\n",
              "    <tr style=\"text-align: right;\">\n",
              "      <th></th>\n",
              "      <th>ชื่อเทศกาล</th>\n",
              "      <th>รหัสจังหวัด</th>\n",
              "      <th>จังหวัด</th>\n",
              "      <th>รหัส รพ.</th>\n",
              "      <th>ชื่อโรงพยาบาลที่รับผู้บาดเจ็บ</th>\n",
              "      <th>วันที่เกิดเหตุ</th>\n",
              "      <th>เวลาเกิดเหตุ</th>\n",
              "      <th>เพศ</th>\n",
              "      <th>อายุ</th>\n",
              "      <th>ถนนที่เกิดเหตุ</th>\n",
              "      <th>สถานะ</th>\n",
              "      <th>รถผู้บาดเจ็บ</th>\n",
              "      <th>รถคู่กรณี</th>\n",
              "      <th>มาตรการ</th>\n",
              "      <th>การดื่มสุรา</th>\n",
              "      <th>การนำส่ง</th>\n",
              "      <th>Refer-Admit</th>\n",
              "      <th>ผลการรักษา</th>\n",
              "      <th>จำนวนวันรักษา</th>\n",
              "    </tr>\n",
              "  </thead>\n",
              "  <tbody>\n",
              "    <tr>\n",
              "      <th>0</th>\n",
              "      <td>ปีใหม่ 51</td>\n",
              "      <td>10</td>\n",
              "      <td>กรุงเทพมหานคร</td>\n",
              "      <td>11630</td>\n",
              "      <td>กรุงเทพ</td>\n",
              "      <td>3</td>\n",
              "      <td>12:01-13:00 น.</td>\n",
              "      <td>หญิง</td>\n",
              "      <td>54</td>\n",
              "      <td>ในเมือง</td>\n",
              "      <td>ผู้ชับขี่</td>\n",
              "      <td>รถเก๋ง/แท็กซี่</td>\n",
              "      <td>ไม่มี/ล้มเอง</td>\n",
              "      <td>เข็มขัด</td>\n",
              "      <td>ไม่ดื่ม</td>\n",
              "      <td>ผู้ประสบเหตุ/ญาติ</td>\n",
              "      <td>ไม่</td>\n",
              "      <td>ทุเลา/หาย</td>\n",
              "      <td>0</td>\n",
              "    </tr>\n",
              "    <tr>\n",
              "      <th>1</th>\n",
              "      <td>ปีใหม่ 51</td>\n",
              "      <td>10</td>\n",
              "      <td>กรุงเทพมหานคร</td>\n",
              "      <td>11548</td>\n",
              "      <td>กรุงเทพคริสเตียน</td>\n",
              "      <td>2</td>\n",
              "      <td>21:01-22:00 น.</td>\n",
              "      <td>หญิง</td>\n",
              "      <td>13</td>\n",
              "      <td>ในเมือง</td>\n",
              "      <td>ผู้ชับขี่</td>\n",
              "      <td>จักรยานยนต์</td>\n",
              "      <td>รถตู้</td>\n",
              "      <td>ใส่หมวก</td>\n",
              "      <td>ไม่ดื่ม</td>\n",
              "      <td>มูลนิธิ/อาสาสมัคร</td>\n",
              "      <td>admit</td>\n",
              "      <td>ทุเลา/หาย</td>\n",
              "      <td>0</td>\n",
              "    </tr>\n",
              "    <tr>\n",
              "      <th>2</th>\n",
              "      <td>ปีใหม่ 51</td>\n",
              "      <td>10</td>\n",
              "      <td>กรุงเทพมหานคร</td>\n",
              "      <td>11548</td>\n",
              "      <td>กรุงเทพคริสเตียน</td>\n",
              "      <td>31</td>\n",
              "      <td>03:01-04:00 น.</td>\n",
              "      <td>หญิง</td>\n",
              "      <td>0</td>\n",
              "      <td>ในเมือง</td>\n",
              "      <td>ผู้โดยสาร</td>\n",
              "      <td>จักรยานยนต์</td>\n",
              "      <td>ปิคอัพ</td>\n",
              "      <td>ไม่ใส่</td>\n",
              "      <td>ไม่ดื่ม</td>\n",
              "      <td>ผู้ประสบเหตุ/ญาติ</td>\n",
              "      <td>ไม่</td>\n",
              "      <td>ทุเลา/หาย</td>\n",
              "      <td>0</td>\n",
              "    </tr>\n",
              "    <tr>\n",
              "      <th>3</th>\n",
              "      <td>ปีใหม่ 51</td>\n",
              "      <td>10</td>\n",
              "      <td>กรุงเทพมหานคร</td>\n",
              "      <td>11548</td>\n",
              "      <td>กรุงเทพคริสเตียน</td>\n",
              "      <td>31</td>\n",
              "      <td>03:01-04:00 น.</td>\n",
              "      <td>หญิง</td>\n",
              "      <td>0</td>\n",
              "      <td>ในเมือง</td>\n",
              "      <td>ผู้โดยสาร</td>\n",
              "      <td>จักรยานยนต์</td>\n",
              "      <td>ปิคอัพ</td>\n",
              "      <td>ใส่หมวก</td>\n",
              "      <td>ไม่ดื่ม</td>\n",
              "      <td>ผู้ประสบเหตุ/ญาติ</td>\n",
              "      <td>ไม่</td>\n",
              "      <td>ทุเลา/หาย</td>\n",
              "      <td>0</td>\n",
              "    </tr>\n",
              "    <tr>\n",
              "      <th>4</th>\n",
              "      <td>ปีใหม่ 51</td>\n",
              "      <td>10</td>\n",
              "      <td>กรุงเทพมหานคร</td>\n",
              "      <td>11548</td>\n",
              "      <td>กรุงเทพคริสเตียน</td>\n",
              "      <td>31</td>\n",
              "      <td>03:01-04:00 น.</td>\n",
              "      <td>ชาย</td>\n",
              "      <td>0</td>\n",
              "      <td>ในเมือง</td>\n",
              "      <td>ผู้ชับขี่</td>\n",
              "      <td>จักรยานยนต์</td>\n",
              "      <td>ปิคอัพ</td>\n",
              "      <td>ใส่หมวก</td>\n",
              "      <td>ดื่ม</td>\n",
              "      <td>ผู้ประสบเหตุ/ญาติ</td>\n",
              "      <td>ไม่</td>\n",
              "      <td>ทุเลา/หาย</td>\n",
              "      <td>0</td>\n",
              "    </tr>\n",
              "  </tbody>\n",
              "</table>\n",
              "</div>"
            ],
            "text/plain": [
              "  ชื่อเทศกาล  รหัสจังหวัด        จังหวัด  ...  Refer-Admit ผลการรักษา  จำนวนวันรักษา\n",
              "0  ปีใหม่ 51           10  กรุงเทพมหานคร  ...          ไม่  ทุเลา/หาย              0\n",
              "1  ปีใหม่ 51           10  กรุงเทพมหานคร  ...        admit  ทุเลา/หาย              0\n",
              "2  ปีใหม่ 51           10  กรุงเทพมหานคร  ...          ไม่  ทุเลา/หาย              0\n",
              "3  ปีใหม่ 51           10  กรุงเทพมหานคร  ...          ไม่  ทุเลา/หาย              0\n",
              "4  ปีใหม่ 51           10  กรุงเทพมหานคร  ...          ไม่  ทุเลา/หาย              0\n",
              "\n",
              "[5 rows x 19 columns]"
            ]
          },
          "metadata": {
            "tags": []
          },
          "execution_count": 2
        }
      ]
    },
    {
      "cell_type": "code",
      "metadata": {
        "id": "PRd67Q1BoX3d",
        "colab": {
          "base_uri": "https://localhost:8080/",
          "height": 447
        },
        "outputId": "617d96ea-b1df-4f9f-d0c4-937001cc14a4"
      },
      "source": [
        "df.tail()"
      ],
      "execution_count": null,
      "outputs": [
        {
          "output_type": "execute_result",
          "data": {
            "text/html": [
              "<div>\n",
              "<style scoped>\n",
              "    .dataframe tbody tr th:only-of-type {\n",
              "        vertical-align: middle;\n",
              "    }\n",
              "\n",
              "    .dataframe tbody tr th {\n",
              "        vertical-align: top;\n",
              "    }\n",
              "\n",
              "    .dataframe thead th {\n",
              "        text-align: right;\n",
              "    }\n",
              "</style>\n",
              "<table border=\"1\" class=\"dataframe\">\n",
              "  <thead>\n",
              "    <tr style=\"text-align: right;\">\n",
              "      <th></th>\n",
              "      <th>ชื่อเทศกาล</th>\n",
              "      <th>รหัสจังหวัด</th>\n",
              "      <th>จังหวัด</th>\n",
              "      <th>รหัส รพ.</th>\n",
              "      <th>ชื่อโรงพยาบาลที่รับผู้บาดเจ็บ</th>\n",
              "      <th>วันที่เกิดเหตุ</th>\n",
              "      <th>เวลาเกิดเหตุ</th>\n",
              "      <th>เพศ</th>\n",
              "      <th>อายุ</th>\n",
              "      <th>ถนนที่เกิดเหตุ</th>\n",
              "      <th>สถานะ</th>\n",
              "      <th>รถผู้บาดเจ็บ</th>\n",
              "      <th>รถคู่กรณี</th>\n",
              "      <th>มาตรการ</th>\n",
              "      <th>การดื่มสุรา</th>\n",
              "      <th>การนำส่ง</th>\n",
              "      <th>Refer-Admit</th>\n",
              "      <th>ผลการรักษา</th>\n",
              "      <th>จำนวนวันรักษา</th>\n",
              "    </tr>\n",
              "  </thead>\n",
              "  <tbody>\n",
              "    <tr>\n",
              "      <th>214945</th>\n",
              "      <td>ปีใหม่ 58</td>\n",
              "      <td>97</td>\n",
              "      <td>บึงกาฬ</td>\n",
              "      <td>11049</td>\n",
              "      <td>ศรีวิไล</td>\n",
              "      <td>31</td>\n",
              "      <td>09:01-10:00 น.</td>\n",
              "      <td>ชาย</td>\n",
              "      <td>3</td>\n",
              "      <td>ชนบท</td>\n",
              "      <td>คนเดินเท้า</td>\n",
              "      <td>ไม่มี/ล้มเอง</td>\n",
              "      <td>จักรยานยนต์</td>\n",
              "      <td>ไม่ใส่</td>\n",
              "      <td>ไม่ดื่ม</td>\n",
              "      <td>ผู้ประสบเหตุ/ญาติ</td>\n",
              "      <td>ไม่</td>\n",
              "      <td>ทุเลา/หาย</td>\n",
              "      <td>0</td>\n",
              "    </tr>\n",
              "    <tr>\n",
              "      <th>214946</th>\n",
              "      <td>ปีใหม่ 58</td>\n",
              "      <td>97</td>\n",
              "      <td>บึงกาฬ</td>\n",
              "      <td>11049</td>\n",
              "      <td>ศรีวิไล</td>\n",
              "      <td>30</td>\n",
              "      <td>16:01-17:00 น.</td>\n",
              "      <td>หญิง</td>\n",
              "      <td>4</td>\n",
              "      <td>ชนบท</td>\n",
              "      <td>คนเดินเท้า</td>\n",
              "      <td>ไม่มี/ล้มเอง</td>\n",
              "      <td>จักรยานยนต์</td>\n",
              "      <td>ไม่ใส่</td>\n",
              "      <td>ไม่ดื่ม</td>\n",
              "      <td>ผู้ประสบเหตุ/ญาติ</td>\n",
              "      <td>ไม่</td>\n",
              "      <td>ทุเลา/หาย</td>\n",
              "      <td>0</td>\n",
              "    </tr>\n",
              "    <tr>\n",
              "      <th>214947</th>\n",
              "      <td>ปีใหม่ 58</td>\n",
              "      <td>97</td>\n",
              "      <td>บึงกาฬ</td>\n",
              "      <td>11049</td>\n",
              "      <td>ศรีวิไล</td>\n",
              "      <td>30</td>\n",
              "      <td>24:01-01:00 น.</td>\n",
              "      <td>ชาย</td>\n",
              "      <td>20</td>\n",
              "      <td>ชนบท</td>\n",
              "      <td>ผู้ชับขี่</td>\n",
              "      <td>จักรยานยนต์</td>\n",
              "      <td>ปิคอัพ</td>\n",
              "      <td>ไม่ใส่</td>\n",
              "      <td>ไม่ดื่ม</td>\n",
              "      <td>ALS</td>\n",
              "      <td>ส่งต่อก่อน admit</td>\n",
              "      <td>ทุเลา/หาย</td>\n",
              "      <td>0</td>\n",
              "    </tr>\n",
              "    <tr>\n",
              "      <th>214948</th>\n",
              "      <td>ปีใหม่ 58</td>\n",
              "      <td>97</td>\n",
              "      <td>บึงกาฬ</td>\n",
              "      <td>11049</td>\n",
              "      <td>ศรีวิไล</td>\n",
              "      <td>31</td>\n",
              "      <td>14:01-15:00 น.</td>\n",
              "      <td>ชาย</td>\n",
              "      <td>16</td>\n",
              "      <td>ชนบท</td>\n",
              "      <td>ผู้ชับขี่</td>\n",
              "      <td>จักรยานยนต์</td>\n",
              "      <td>ไม่มี/ล้มเอง</td>\n",
              "      <td>ไม่ใส่</td>\n",
              "      <td>ดื่ม</td>\n",
              "      <td>FR</td>\n",
              "      <td>ส่งต่อก่อน admit</td>\n",
              "      <td>ทุเลา/หาย</td>\n",
              "      <td>0</td>\n",
              "    </tr>\n",
              "    <tr>\n",
              "      <th>214949</th>\n",
              "      <td>ปีใหม่ 58</td>\n",
              "      <td>97</td>\n",
              "      <td>บึงกาฬ</td>\n",
              "      <td>11049</td>\n",
              "      <td>ศรีวิไล</td>\n",
              "      <td>5</td>\n",
              "      <td>15:01-16:00 น.</td>\n",
              "      <td>ชาย</td>\n",
              "      <td>19</td>\n",
              "      <td>ทางหลวง</td>\n",
              "      <td>ผู้ชับขี่</td>\n",
              "      <td>จักรยานยนต์</td>\n",
              "      <td>สามล้อเครื่อง</td>\n",
              "      <td>ใส่หมวก</td>\n",
              "      <td>ไม่ดื่ม</td>\n",
              "      <td>ผู้ประสบเหตุ/ญาติ</td>\n",
              "      <td>ส่งต่อก่อน admit</td>\n",
              "      <td>ทุเลา/หาย</td>\n",
              "      <td>0</td>\n",
              "    </tr>\n",
              "  </tbody>\n",
              "</table>\n",
              "</div>"
            ],
            "text/plain": [
              "       ชื่อเทศกาล  รหัสจังหวัด  ... ผลการรักษา  จำนวนวันรักษา\n",
              "214945  ปีใหม่ 58           97  ...  ทุเลา/หาย              0\n",
              "214946  ปีใหม่ 58           97  ...  ทุเลา/หาย              0\n",
              "214947  ปีใหม่ 58           97  ...  ทุเลา/หาย              0\n",
              "214948  ปีใหม่ 58           97  ...  ทุเลา/หาย              0\n",
              "214949  ปีใหม่ 58           97  ...  ทุเลา/หาย              0\n",
              "\n",
              "[5 rows x 19 columns]"
            ]
          },
          "metadata": {
            "tags": []
          },
          "execution_count": 3
        }
      ]
    },
    {
      "cell_type": "code",
      "metadata": {
        "id": "Y3dfGSlLohy4",
        "colab": {
          "base_uri": "https://localhost:8080/",
          "height": 118
        },
        "outputId": "9d8b6909-3a3d-41ce-a0e9-a382f0fc65ef"
      },
      "source": [
        "print(df.columns)"
      ],
      "execution_count": null,
      "outputs": [
        {
          "output_type": "stream",
          "text": [
            "Index(['ชื่อเทศกาล', 'รหัสจังหวัด', 'จังหวัด', 'รหัส รพ.',\n",
            "       'ชื่อโรงพยาบาลที่รับผู้บาดเจ็บ', 'วันที่เกิดเหตุ', 'เวลาเกิดเหตุ',\n",
            "       'เพศ', 'อายุ', 'ถนนที่เกิดเหตุ', 'สถานะ', 'รถผู้บาดเจ็บ', 'รถคู่กรณี',\n",
            "       'มาตรการ', 'การดื่มสุรา', 'การนำส่ง', 'Refer-Admit', 'ผลการรักษา',\n",
            "       'จำนวนวันรักษา'],\n",
            "      dtype='object')\n"
          ],
          "name": "stdout"
        }
      ]
    },
    {
      "cell_type": "code",
      "metadata": {
        "id": "pP75UTl4sK0H",
        "colab": {
          "base_uri": "https://localhost:8080/",
          "height": 353
        },
        "outputId": "83450e88-0353-42d3-a073-7d00efc96e17"
      },
      "source": [
        "print(df.dtypes)"
      ],
      "execution_count": null,
      "outputs": [
        {
          "output_type": "stream",
          "text": [
            "ชื่อเทศกาล                       object\n",
            "รหัสจังหวัด                       int64\n",
            "จังหวัด                          object\n",
            "รหัส รพ.                          int64\n",
            "ชื่อโรงพยาบาลที่รับผู้บาดเจ็บ    object\n",
            "วันที่เกิดเหตุ                    int64\n",
            "เวลาเกิดเหตุ                     object\n",
            "เพศ                              object\n",
            "อายุ                              int64\n",
            "ถนนที่เกิดเหตุ                   object\n",
            "สถานะ                            object\n",
            "รถผู้บาดเจ็บ                     object\n",
            "รถคู่กรณี                        object\n",
            "มาตรการ                          object\n",
            "การดื่มสุรา                      object\n",
            "การนำส่ง                         object\n",
            "Refer-Admit                      object\n",
            "ผลการรักษา                       object\n",
            "จำนวนวันรักษา                     int64\n",
            "dtype: object\n"
          ],
          "name": "stdout"
        }
      ]
    },
    {
      "cell_type": "code",
      "metadata": {
        "id": "7wYLf5n4QtA9",
        "colab": {
          "base_uri": "https://localhost:8080/",
          "height": 168
        },
        "outputId": "98eab7c1-569b-43fd-cad4-dc3192f7a87a"
      },
      "source": [
        "df['อายุ'].describe()"
      ],
      "execution_count": null,
      "outputs": [
        {
          "output_type": "execute_result",
          "data": {
            "text/plain": [
              "count    214950.000000\n",
              "mean         28.861433\n",
              "std          16.402318\n",
              "min           0.000000\n",
              "25%          17.000000\n",
              "50%          25.000000\n",
              "75%          39.000000\n",
              "max          99.000000\n",
              "Name: อายุ, dtype: float64"
            ]
          },
          "metadata": {
            "tags": []
          },
          "execution_count": 6
        }
      ]
    },
    {
      "cell_type": "code",
      "metadata": {
        "id": "NkEVpuekTM24",
        "colab": {
          "base_uri": "https://localhost:8080/",
          "height": 942
        },
        "outputId": "2c7e9183-ae9e-4fb8-d864-c340735732ab"
      },
      "source": [
        "df[df['อายุ']==17]\n"
      ],
      "execution_count": null,
      "outputs": [
        {
          "output_type": "execute_result",
          "data": {
            "text/html": [
              "<div>\n",
              "<style scoped>\n",
              "    .dataframe tbody tr th:only-of-type {\n",
              "        vertical-align: middle;\n",
              "    }\n",
              "\n",
              "    .dataframe tbody tr th {\n",
              "        vertical-align: top;\n",
              "    }\n",
              "\n",
              "    .dataframe thead th {\n",
              "        text-align: right;\n",
              "    }\n",
              "</style>\n",
              "<table border=\"1\" class=\"dataframe\">\n",
              "  <thead>\n",
              "    <tr style=\"text-align: right;\">\n",
              "      <th></th>\n",
              "      <th>ชื่อเทศกาล</th>\n",
              "      <th>รหัสจังหวัด</th>\n",
              "      <th>จังหวัด</th>\n",
              "      <th>รหัส รพ.</th>\n",
              "      <th>ชื่อโรงพยาบาลที่รับผู้บาดเจ็บ</th>\n",
              "      <th>วันที่เกิดเหตุ</th>\n",
              "      <th>เวลาเกิดเหตุ</th>\n",
              "      <th>เพศ</th>\n",
              "      <th>อายุ</th>\n",
              "      <th>ถนนที่เกิดเหตุ</th>\n",
              "      <th>สถานะ</th>\n",
              "      <th>รถผู้บาดเจ็บ</th>\n",
              "      <th>รถคู่กรณี</th>\n",
              "      <th>มาตรการ</th>\n",
              "      <th>การดื่มสุรา</th>\n",
              "      <th>การนำส่ง</th>\n",
              "      <th>Refer-Admit</th>\n",
              "      <th>ผลการรักษา</th>\n",
              "      <th>จำนวนวันรักษา</th>\n",
              "    </tr>\n",
              "  </thead>\n",
              "  <tbody>\n",
              "    <tr>\n",
              "      <th>27</th>\n",
              "      <td>ปีใหม่ 51</td>\n",
              "      <td>10</td>\n",
              "      <td>กรุงเทพมหานคร</td>\n",
              "      <td>11668</td>\n",
              "      <td>กรุงธน 2</td>\n",
              "      <td>29</td>\n",
              "      <td>03:01-04:00 น.</td>\n",
              "      <td>ชาย</td>\n",
              "      <td>17</td>\n",
              "      <td>ในเมือง</td>\n",
              "      <td>ผู้โดยสาร</td>\n",
              "      <td>รถโดยสาร 4 ล้อ</td>\n",
              "      <td>รถบรรทุก</td>\n",
              "      <td>ไม่ทราบ</td>\n",
              "      <td>ดื่ม</td>\n",
              "      <td>ผู้ประสบเหตุ/ญาติ</td>\n",
              "      <td>ไม่</td>\n",
              "      <td>ทุเลา/หาย</td>\n",
              "      <td>0</td>\n",
              "    </tr>\n",
              "    <tr>\n",
              "      <th>46</th>\n",
              "      <td>ปีใหม่ 51</td>\n",
              "      <td>10</td>\n",
              "      <td>กรุงเทพมหานคร</td>\n",
              "      <td>11583</td>\n",
              "      <td>กล้วยน้ำไท พระโขนง</td>\n",
              "      <td>3</td>\n",
              "      <td>10:01-11:00 น.</td>\n",
              "      <td>หญิง</td>\n",
              "      <td>17</td>\n",
              "      <td>ในเมือง</td>\n",
              "      <td>ผู้โดยสาร</td>\n",
              "      <td>จักรยานยนต์</td>\n",
              "      <td>รถเก๋ง/แท็กซี่</td>\n",
              "      <td>ไม่ทราบ</td>\n",
              "      <td>ไม่ดื่ม</td>\n",
              "      <td>ผู้ประสบเหตุ/ญาติ</td>\n",
              "      <td>ไม่</td>\n",
              "      <td>ทุเลา/หาย</td>\n",
              "      <td>0</td>\n",
              "    </tr>\n",
              "    <tr>\n",
              "      <th>64</th>\n",
              "      <td>ปีใหม่ 51</td>\n",
              "      <td>10</td>\n",
              "      <td>กรุงเทพมหานคร</td>\n",
              "      <td>11581</td>\n",
              "      <td>กล้วยน้ำไทสุขุมวิท68</td>\n",
              "      <td>29</td>\n",
              "      <td>ไม่ทราบ</td>\n",
              "      <td>หญิง</td>\n",
              "      <td>17</td>\n",
              "      <td>ในเมือง</td>\n",
              "      <td>ผู้โดยสาร</td>\n",
              "      <td>จักรยานยนต์</td>\n",
              "      <td>ปิคอัพ</td>\n",
              "      <td>ไม่ใส่</td>\n",
              "      <td>ไม่ดื่ม</td>\n",
              "      <td>ผู้ประสบเหตุ/ญาติ</td>\n",
              "      <td>ไม่</td>\n",
              "      <td>ทุเลา/หาย</td>\n",
              "      <td>0</td>\n",
              "    </tr>\n",
              "    <tr>\n",
              "      <th>72</th>\n",
              "      <td>ปีใหม่ 51</td>\n",
              "      <td>10</td>\n",
              "      <td>กรุงเทพมหานคร</td>\n",
              "      <td>11581</td>\n",
              "      <td>กล้วยน้ำไทสุขุมวิท68</td>\n",
              "      <td>1</td>\n",
              "      <td>10:01-11:00 น.</td>\n",
              "      <td>ชาย</td>\n",
              "      <td>17</td>\n",
              "      <td>ไม่ทราบ</td>\n",
              "      <td>ผู้โดยสาร</td>\n",
              "      <td>จักรยานยนต์</td>\n",
              "      <td>รถเก๋ง/แท็กซี่</td>\n",
              "      <td>ใส่หมวก</td>\n",
              "      <td>ดื่ม</td>\n",
              "      <td>ผู้ประสบเหตุ/ญาติ</td>\n",
              "      <td>ไม่</td>\n",
              "      <td>ทุเลา/หาย</td>\n",
              "      <td>0</td>\n",
              "    </tr>\n",
              "    <tr>\n",
              "      <th>171</th>\n",
              "      <td>ปีใหม่ 51</td>\n",
              "      <td>10</td>\n",
              "      <td>กรุงเทพมหานคร</td>\n",
              "      <td>11656</td>\n",
              "      <td>เกษมราษฏร์ บางแค</td>\n",
              "      <td>29</td>\n",
              "      <td>21:01-22:00 น.</td>\n",
              "      <td>ชาย</td>\n",
              "      <td>17</td>\n",
              "      <td>ในเมือง</td>\n",
              "      <td>ผู้ชับขี่</td>\n",
              "      <td>รถจักรยาน</td>\n",
              "      <td>ไม่ทราบ</td>\n",
              "      <td>ไม่ใส่</td>\n",
              "      <td>ไม่ดื่ม</td>\n",
              "      <td>ผู้ประสบเหตุ/ญาติ</td>\n",
              "      <td>ไม่</td>\n",
              "      <td>ทุเลา/หาย</td>\n",
              "      <td>0</td>\n",
              "    </tr>\n",
              "    <tr>\n",
              "      <th>...</th>\n",
              "      <td>...</td>\n",
              "      <td>...</td>\n",
              "      <td>...</td>\n",
              "      <td>...</td>\n",
              "      <td>...</td>\n",
              "      <td>...</td>\n",
              "      <td>...</td>\n",
              "      <td>...</td>\n",
              "      <td>...</td>\n",
              "      <td>...</td>\n",
              "      <td>...</td>\n",
              "      <td>...</td>\n",
              "      <td>...</td>\n",
              "      <td>...</td>\n",
              "      <td>...</td>\n",
              "      <td>...</td>\n",
              "      <td>...</td>\n",
              "      <td>...</td>\n",
              "      <td>...</td>\n",
              "    </tr>\n",
              "    <tr>\n",
              "      <th>214883</th>\n",
              "      <td>ปีใหม่ 58</td>\n",
              "      <td>97</td>\n",
              "      <td>บึงกาฬ</td>\n",
              "      <td>11047</td>\n",
              "      <td>ปากคาด</td>\n",
              "      <td>1</td>\n",
              "      <td>01:01-02:00 น.</td>\n",
              "      <td>ชาย</td>\n",
              "      <td>17</td>\n",
              "      <td>ชนบท</td>\n",
              "      <td>ผู้ชับขี่</td>\n",
              "      <td>จักรยานยนต์</td>\n",
              "      <td>ไม่มี/ล้มเอง</td>\n",
              "      <td>ไม่ใส่</td>\n",
              "      <td>ดื่ม</td>\n",
              "      <td>ผู้ประสบเหตุ/ญาติ</td>\n",
              "      <td>ไม่</td>\n",
              "      <td>ทุเลา/หาย</td>\n",
              "      <td>1</td>\n",
              "    </tr>\n",
              "    <tr>\n",
              "      <th>214889</th>\n",
              "      <td>ปีใหม่ 58</td>\n",
              "      <td>97</td>\n",
              "      <td>บึงกาฬ</td>\n",
              "      <td>11047</td>\n",
              "      <td>ปากคาด</td>\n",
              "      <td>31</td>\n",
              "      <td>14:01-15:00 น.</td>\n",
              "      <td>ชาย</td>\n",
              "      <td>17</td>\n",
              "      <td>ชนบท</td>\n",
              "      <td>ผู้ชับขี่</td>\n",
              "      <td>จักรยานยนต์</td>\n",
              "      <td>ไม่มี/ล้มเอง</td>\n",
              "      <td>ไม่ใส่</td>\n",
              "      <td>ดื่ม</td>\n",
              "      <td>ผู้ประสบเหตุ/ญาติ</td>\n",
              "      <td>ไม่</td>\n",
              "      <td>ทุเลา/หาย</td>\n",
              "      <td>0</td>\n",
              "    </tr>\n",
              "    <tr>\n",
              "      <th>214912</th>\n",
              "      <td>ปีใหม่ 58</td>\n",
              "      <td>97</td>\n",
              "      <td>บึงกาฬ</td>\n",
              "      <td>11041</td>\n",
              "      <td>พรเจริญ</td>\n",
              "      <td>3</td>\n",
              "      <td>12:01-13:00 น.</td>\n",
              "      <td>ชาย</td>\n",
              "      <td>17</td>\n",
              "      <td>ในเมือง</td>\n",
              "      <td>ผู้ชับขี่</td>\n",
              "      <td>จักรยานยนต์</td>\n",
              "      <td>ไม่มี/ล้มเอง</td>\n",
              "      <td>ไม่ใส่</td>\n",
              "      <td>ดื่ม</td>\n",
              "      <td>ผู้ประสบเหตุ/ญาติ</td>\n",
              "      <td>ไม่</td>\n",
              "      <td>ทุเลา/หาย</td>\n",
              "      <td>0</td>\n",
              "    </tr>\n",
              "    <tr>\n",
              "      <th>214934</th>\n",
              "      <td>ปีใหม่ 58</td>\n",
              "      <td>97</td>\n",
              "      <td>บึงกาฬ</td>\n",
              "      <td>11049</td>\n",
              "      <td>ศรีวิไล</td>\n",
              "      <td>30</td>\n",
              "      <td>12:01-13:00 น.</td>\n",
              "      <td>หญิง</td>\n",
              "      <td>17</td>\n",
              "      <td>ทางหลวง</td>\n",
              "      <td>ผู้ชับขี่</td>\n",
              "      <td>จักรยานยนต์</td>\n",
              "      <td>จักรยานยนต์</td>\n",
              "      <td>ไม่ใส่</td>\n",
              "      <td>ไม่ดื่ม</td>\n",
              "      <td>มูลนิธิ/อาสาสมัคร</td>\n",
              "      <td>ไม่</td>\n",
              "      <td>ทุเลา/หาย</td>\n",
              "      <td>0</td>\n",
              "    </tr>\n",
              "    <tr>\n",
              "      <th>214942</th>\n",
              "      <td>ปีใหม่ 58</td>\n",
              "      <td>97</td>\n",
              "      <td>บึงกาฬ</td>\n",
              "      <td>11049</td>\n",
              "      <td>ศรีวิไล</td>\n",
              "      <td>1</td>\n",
              "      <td>13:01-14:00 น.</td>\n",
              "      <td>ชาย</td>\n",
              "      <td>17</td>\n",
              "      <td>ชนบท</td>\n",
              "      <td>ผู้โดยสาร</td>\n",
              "      <td>จักรยานยนต์</td>\n",
              "      <td>ไม่มี/ล้มเอง</td>\n",
              "      <td>ไม่ใส่</td>\n",
              "      <td>ดื่ม</td>\n",
              "      <td>FR</td>\n",
              "      <td>ไม่</td>\n",
              "      <td>ทุเลา/หาย</td>\n",
              "      <td>0</td>\n",
              "    </tr>\n",
              "  </tbody>\n",
              "</table>\n",
              "<p>8846 rows × 19 columns</p>\n",
              "</div>"
            ],
            "text/plain": [
              "       ชื่อเทศกาล  รหัสจังหวัด  ... ผลการรักษา  จำนวนวันรักษา\n",
              "27      ปีใหม่ 51           10  ...  ทุเลา/หาย              0\n",
              "46      ปีใหม่ 51           10  ...  ทุเลา/หาย              0\n",
              "64      ปีใหม่ 51           10  ...  ทุเลา/หาย              0\n",
              "72      ปีใหม่ 51           10  ...  ทุเลา/หาย              0\n",
              "171     ปีใหม่ 51           10  ...  ทุเลา/หาย              0\n",
              "...           ...          ...  ...        ...            ...\n",
              "214883  ปีใหม่ 58           97  ...  ทุเลา/หาย              1\n",
              "214889  ปีใหม่ 58           97  ...  ทุเลา/หาย              0\n",
              "214912  ปีใหม่ 58           97  ...  ทุเลา/หาย              0\n",
              "214934  ปีใหม่ 58           97  ...  ทุเลา/หาย              0\n",
              "214942  ปีใหม่ 58           97  ...  ทุเลา/หาย              0\n",
              "\n",
              "[8846 rows x 19 columns]"
            ]
          },
          "metadata": {
            "tags": []
          },
          "execution_count": 7
        }
      ]
    },
    {
      "cell_type": "code",
      "metadata": {
        "id": "nbiyhGKyWua1",
        "colab": {
          "base_uri": "https://localhost:8080/",
          "height": 218
        },
        "outputId": "85ae6db0-6b3f-4fa4-9f00-87028046e5bd"
      },
      "source": [
        "df['อายุ'].value_counts()"
      ],
      "execution_count": null,
      "outputs": [
        {
          "output_type": "execute_result",
          "data": {
            "text/plain": [
              "17    8846\n",
              "18    8770\n",
              "16    8614\n",
              "15    7924\n",
              "19    7693\n",
              "      ... \n",
              "91       3\n",
              "98       3\n",
              "95       2\n",
              "92       2\n",
              "96       1\n",
              "Name: อายุ, Length: 100, dtype: int64"
            ]
          },
          "metadata": {
            "tags": []
          },
          "execution_count": 8
        }
      ]
    },
    {
      "cell_type": "code",
      "metadata": {
        "id": "o6flervUZLAk",
        "colab": {
          "base_uri": "https://localhost:8080/",
          "height": 67
        },
        "outputId": "c56adde6-7015-4335-8ab2-a322f2481127"
      },
      "source": [
        "df['ผลการรักษา'].unique()"
      ],
      "execution_count": null,
      "outputs": [
        {
          "output_type": "execute_result",
          "data": {
            "text/plain": [
              "array(['ทุเลา/หาย', 'ตายในตึกภายใน 24 ชม. หลังเหตุ', 'ตายที่เกิดเหตุ',\n",
              "       'ตายที่ห้องฉุกเฉิน', 'ตายในตึกหลัง 24 ชม. - 30 วัน',\n",
              "       'ตายระหว่างนำส่ง', 'ตายระหว่างส่งต่อ'], dtype=object)"
            ]
          },
          "metadata": {
            "tags": []
          },
          "execution_count": 9
        }
      ]
    },
    {
      "cell_type": "code",
      "metadata": {
        "id": "Nbc4-zHaZqjN",
        "colab": {
          "base_uri": "https://localhost:8080/",
          "height": 151
        },
        "outputId": "e2b92fe5-d5be-493e-d93d-2f0893ac47dc"
      },
      "source": [
        "df['ผลการรักษา'].value_counts()"
      ],
      "execution_count": null,
      "outputs": [
        {
          "output_type": "execute_result",
          "data": {
            "text/plain": [
              "ทุเลา/หาย                        211386\n",
              "ตายที่เกิดเหตุ                     2137\n",
              "ตายที่ห้องฉุกเฉิน                   492\n",
              "ตายในตึกภายใน 24 ชม. หลังเหตุ       463\n",
              "ตายในตึกหลัง 24 ชม. - 30 วัน        302\n",
              "ตายระหว่างนำส่ง                     111\n",
              "ตายระหว่างส่งต่อ                     59\n",
              "Name: ผลการรักษา, dtype: int64"
            ]
          },
          "metadata": {
            "tags": []
          },
          "execution_count": 10
        }
      ]
    },
    {
      "cell_type": "code",
      "metadata": {
        "id": "8AXOcuvYajFV",
        "colab": {
          "base_uri": "https://localhost:8080/",
          "height": 252
        },
        "outputId": "1b51b4ea-b3b5-409e-ef3a-b6fdbfb524ad"
      },
      "source": [
        "df1=df[df['ผลการรักษา']=='ตายที่เกิดเหตุ']\n",
        "df1['รถผู้บาดเจ็บ'].value_counts()"
      ],
      "execution_count": null,
      "outputs": [
        {
          "output_type": "execute_result",
          "data": {
            "text/plain": [
              "จักรยานยนต์       1321\n",
              "ปิคอัพ             288\n",
              "ไม่มี/ล้มเอง       161\n",
              "รถเก๋ง/แท็กซี่     139\n",
              "รถจักรยาน           77\n",
              "อื่นๆ               48\n",
              "ไม่ทราบ             25\n",
              "สามล้อเครื่อง       24\n",
              "รถบรรทุก            21\n",
              "รถตู้               13\n",
              "รถโดยสารใหญ่        11\n",
              "รถโดยสาร 4 ล้อ       7\n",
              "สามล้อถีบ            2\n",
              "Name: รถผู้บาดเจ็บ, dtype: int64"
            ]
          },
          "metadata": {
            "tags": []
          },
          "execution_count": 11
        }
      ]
    },
    {
      "cell_type": "code",
      "metadata": {
        "id": "Mb1r8JkWg_w0",
        "colab": {
          "base_uri": "https://localhost:8080/",
          "height": 703
        },
        "outputId": "22e1197b-1ded-4efa-9f10-65e4f9181b10"
      },
      "source": [
        "import matplotlib.pyplot as plt\n",
        "import matplotlib\n",
        "plt.figure()\n",
        "pd.value_counts(df['อายุ']).sort_index().plot(kind='bar',figsize=(16,12))\n",
        "plt.show()"
      ],
      "execution_count": null,
      "outputs": [
        {
          "output_type": "display_data",
          "data": {
            "image/png": "[encoded data removed]",
            "text/plain": [
              "<Figure size 1152x864 with 1 Axes>"
            ]
          },
          "metadata": {
            "tags": [],
            "needs_background": "light"
          }
        }
      ]
    }
  ]
}